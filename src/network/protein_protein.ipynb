{
 "cells": [
  {
   "cell_type": "code",
   "execution_count": 5,
   "metadata": {},
   "outputs": [],
   "source": [
    "from collections import defaultdict\n",
    "import matplotlib.pyplot as plt\n",
    "import scipy\n",
    "import snap\n",
    "\n",
    "def AddNode(Graph, node_to_id, node_name, new_node_id):\n",
    "    # This function adds a new node to the graph and\n",
    "    # updates the protein name -> node id mapping.\n",
    "    Graph.AddNode(new_node_id)\n",
    "    node_to_id[node_name] = new_node_id\n",
    "    return new_node_id + 1\n",
    "\n",
    "def OpenCorrelationInfoFile(path):\n",
    "    # Opens the edge list file at 'path',\n",
    "    # construct the graph and the node name to node id mapping,\n",
    "    # and return both.\n",
    "    with open(path, 'r') as f:\n",
    "        # Skip the first line\n",
    "        next(f)\n",
    "        # Read all lines, constructing the graph as we go.\n",
    "        new_node_id = 1\n",
    "        Graph = snap.TNEANet.New()\n",
    "        node_to_id = {}\n",
    "        for line in f:\n",
    "            values = line.split()\n",
    "            start_node_id = -1\n",
    "            end_node_id = -1\n",
    "            if values[0] not in node_to_id:\n",
    "                AddNode(Graph, node_to_id, values[0], new_node_id)\n",
    "                start_node_id = new_node_id\n",
    "                new_node_id += 1\n",
    "            else:\n",
    "                start_node_id = node_to_id[values[0]]\n",
    "            if values[1] not in node_to_id:\n",
    "                AddNode(Graph, node_to_id, values[1], new_node_id)\n",
    "                end_node_id = new_node_id\n",
    "                new_node_id += 1\n",
    "            else:\n",
    "                end_node_id = node_to_id[values[1]]\n",
    "            \n",
    "            # Add the edge\n",
    "            Graph.AddEdge(start_node_id, end_node_id)\n",
    "\n",
    "        return Graph, node_to_id\n",
    "\n",
    "def ComputeInDegreeDistribution(Graph):\n",
    "    # Compute the in degree distribution and return X, Y values for plotting\n",
    "    d = defaultdict(lambda: 0)\n",
    "    for node in Graph.Nodes():\n",
    "        d[node.GetInDeg()] += 1\n",
    "    \n",
    "    d = {k: float(d[k]) / Graph.GetNodes() for k in d.keys()}\n",
    "    X = d.keys()\n",
    "    Y = d.values()\n",
    "    return X, Y\n",
    "\n",
    "def ComputeOutDegreeDistribution(Graph):\n",
    "    # Compute the in degree distribution and return X, Y values for plotting\n",
    "    d = defaultdict(lambda: 0)\n",
    "    for node in Graph.Nodes():\n",
    "        d[node.GetOutDeg()] += 1\n",
    "    \n",
    "    d = {k: float(d[k]) / Graph.GetNodes() for k in d.keys()}\n",
    "    X = d.keys()\n",
    "    Y = d.values()\n",
    "    return X, Y\n",
    "\n",
    "def ComputeStatistics(Graph):\n",
    "    # Compute some simple statistics. \n",
    "    # Node counts, edge counts, clustering coeffs, degree distributions.\n",
    "    print 'Number of nodes = %d' % Graph.GetNodes()\n",
    "    print 'Number of edges = %d' % Graph.GetEdges()\n",
    "    print 'Average clustering coefficient = %f' % snap.GetClustCf(Graph)\n",
    "    # Plot the in-deg and out-deg distributions, and fit a power law distribution to them.\n",
    "    X_in, Y_in = ComputeInDegreeDistribution(Graph)\n",
    "    X_out, Y_out = ComputeOutDegreeDistribution(Graph)\n",
    "    plt.loglog(X_in, Y_in, 'o', color = 'r', label = 'In Degree')\n",
    "    plt.loglog(X_out, Y_out, '+', color = 'b', label = 'Out Degree')\n",
    "    plt.show()\n",
    "    # TODO: We should also compute some other statistics, such as largest CC, largest weakly connected CC,\n",
    "    # local modularity, fraction of known disease proteins, etc.\n",
    "    "
   ]
  },
  {
   "cell_type": "code",
   "execution_count": 3,
   "metadata": {},
   "outputs": [],
   "source": [
    "Graph, node_to_id = OpenCorrelationInfoFile('new_edges-CORRELATIONINFO.txt')\n"
   ]
  },
  {
   "cell_type": "code",
   "execution_count": 4,
   "metadata": {},
   "outputs": [
    {
     "name": "stdout",
     "output_type": "stream",
     "text": [
      "Number of nodes = 31693\n",
      "Number of edges = 2264289\n",
      "Average clustering coefficient = 0.033093\n"
     ]
    },
    {
     "data": {
      "image/png": "[encoded data removed]",
      "text/plain": [
       "<matplotlib.figure.Figure at 0x10af1b090>"
      ]
     },
     "metadata": {},
     "output_type": "display_data"
    }
   ],
   "source": [
    "ComputeStatistics(Graph)"
   ]
  },
  {
   "cell_type": "code",
   "execution_count": 16,
   "metadata": {},
   "outputs": [],
   "source": [
    "from math import log, exp\n",
    "from scipy.special import gammaln\n",
    "\n",
    "# In this section I'll start implementing the DIAMOND algorithm. We start with the definition to the link\n",
    "# significance as defined by the DIAMOND paper. The link significance is defined as the probability that,\n",
    "# if we randomly selected s_0 seed proteins as disease proteins, what is the probability that a node with\n",
    "# k out edges point to exactly k_s of those seed proteins? This is a hypergeometric distribution, where\n",
    "# the total event space of the node with k out edges is of size N choose k, and the situations in which exactly\n",
    "# k_s of those k edges point to the s_0 seed proteins is (s_0 choose k_s) * ((N - s_0) choose (k - k_s)).\n",
    "# Note that this is not exactly drawing black/white balls out of bins, so we cannot directly use scipy.hypergeom.\n",
    "# This function needs to be implemented with some care, namely:\n",
    "#   * We are dealing with large numbers, so directly applying N choose k is bad. Instead we should operate in\n",
    "#     log space.\n",
    "#   * k! can be expressed as the Gamma function Gamma(k + 1)\n",
    "#   * Thus, N choose k = Gamma(N + 1) / (Gamma(k + 1) * Gamma(N - k + 1))\n",
    "#   * In log space, log( N choose k ) = LogGamma(N + 1) - (LogGamma(k + 1) + LogGamma(N - k + 1))\n",
    "#   * scipy has a gammaln function for LogGamma.\n",
    "\n",
    "def LogChoose(n, k):\n",
    "    return gammaln(n + 1) - (gammaln(k + 1) + gammaln(n - k + 1))\n",
    "\n",
    "# The probability mass function is defined as:\n",
    "#   pmf(k_s, k, N, s_0) = (s_0 choose k_s) * ((N - s_0) choose (k - k_s)) / (N choose k)\n",
    "# In log space:\n",
    "#   ln pmf = ln(s_0 choose k_s) + ln((N - s_0) choose (k - k_s)) - ln(N choose k)\n",
    "#          = LogChoose(s_0, k_s) + LogChoose(N - s_0, k - k_s) - LogChoose(N, k)\n",
    "# We can exponentiate that to get the answer.\n",
    "def DiseaseProteinHyperGeomPmf(k, k_s, N, s_0):\n",
    "    log_pmf = LogChoose(s_0, k_s) + LogChoose(N - s_0, k - k_s) - LogChoose(N, k)\n",
    "    return exp(log_pmf)\n",
    "\n",
    "# Finally, we can compute the link signficance as the p-value of the null hypothesis that the linking\n",
    "# is random. This is just the complementary CDF of the hypergeometric distribution:\n",
    "#   p-value = P( X >= k_s ) = \\sum_{k_i = k_s}^{k} pmf(k_i, k, N, s_0)\n",
    "\n",
    "def CCDF_HyperGeom(k, k_s, N, s_0):\n",
    "    ccdf = 0.0\n",
    "    for k_i in range(k_s, k + 1):\n",
    "        ccdf += DiseaseProteinHyperGeomPmf(k, k_i, N, s_0)\n",
    "    return ccdf"
   ]
  },
  {
   "cell_type": "code",
   "execution_count": 19,
   "metadata": {},
   "outputs": [
    {
     "name": "stdout",
     "output_type": "stream",
     "text": [
      "0.025464546427\n"
     ]
    }
   ],
   "source": [
    "print CCDF_HyperGeom(10, 5, 100, 20)"
   ]
  },
  {
   "cell_type": "code",
   "execution_count": null,
   "metadata": {},
   "outputs": [],
   "source": []
  }
 ],
 "metadata": {
  "kernelspec": {
   "display_name": "cs224w",
   "language": "python",
   "name": "cs224w"
  },
  "language_info": {
   "codemirror_mode": {
    "name": "ipython",
    "version": 2
   },
   "file_extension": ".py",
   "mimetype": "text/x-python",
   "name": "python",
   "nbconvert_exporter": "python",
   "pygments_lexer": "ipython2",
   "version": "2.7.10"
  }
 },
 "nbformat": 4,
 "nbformat_minor": 2
}
