{
 "cells": [
  {
   "cell_type": "markdown",
   "metadata": {},
   "source": [
    "edited 08/20/2020"
   ]
  },
  {
   "cell_type": "code",
   "execution_count": 2,
   "metadata": {},
   "outputs": [],
   "source": [
    "import os, glob\n",
    "import pandas as pd\n"
   ]
  },
  {
   "cell_type": "code",
   "execution_count": 3,
   "metadata": {},
   "outputs": [],
   "source": [
    "normal_tissues = ['Astrocytes','SL_D0','SL_D2','SLC_D0', 'SLC_D2','H9_D0','H9_D2','H9_D10','H9_D28']"
   ]
  },
  {
   "cell_type": "code",
   "execution_count": 4,
   "metadata": {},
   "outputs": [],
   "source": [
    "def get_alpha(row):\n",
    "    return '::'.join(sorted([row['source'], row['target']]))"
   ]
  },
  {
   "cell_type": "code",
   "execution_count": 5,
   "metadata": {},
   "outputs": [
    {
     "name": "stdout",
     "output_type": "stream",
     "text": [
      "../data/interim/merged/loops/Astrocytes.loops.csv\n"
     ]
    },
    {
     "name": "stderr",
     "output_type": "stream",
     "text": [
      "/Users/mguo123/opt/anaconda3/lib/python3.7/site-packages/numpy/lib/arraysetops.py:568: FutureWarning: elementwise comparison failed; returning scalar instead, but in the future will perform elementwise comparison\n",
      "  mask |= (ar1 == a)\n"
     ]
    },
    {
     "name": "stdout",
     "output_type": "stream",
     "text": [
      "../data/interim/merged/loops/H9_D0.loops.csv\n",
      "../data/interim/merged/loops/H9_D10.loops.csv\n",
      "../data/interim/merged/loops/H9_D2.loops.csv\n",
      "../data/interim/merged/loops/H9_D28.loops.csv\n",
      "../data/interim/merged/loops/SLC_D0.loops.csv\n",
      "../data/interim/merged/loops/SLC_D2.loops.csv\n",
      "../data/interim/merged/loops/SL_D0.loops.csv\n",
      "../data/interim/merged/loops/SL_D2.loops.csv\n"
     ]
    }
   ],
   "source": [
    "%%time\n",
    "# takes a couple min\n",
    "tissue_loop_dict = {}\n",
    "for file in sorted(glob.glob('../data/interim/merged/loops/*csv')):\n",
    "    filename = os.path.basename(file)\n",
    "    tissue = filename.split('.')[0]\n",
    "    if tissue in normal_tissues:\n",
    "        print(file)\n",
    "        df = pd.read_csv(file, index_col=0)\n",
    "        df['loop_name'] = df[['source','target']].apply(get_alpha,axis=1)\n",
    "        per_tissue_loop_dict = pd.Series(df['count'].values, index=df.loop_name.values).to_dict()\n",
    "        tissue_loop_dict[tissue] = per_tissue_loop_dict\n",
    "        "
   ]
  },
  {
   "cell_type": "code",
   "execution_count": 6,
   "metadata": {},
   "outputs": [],
   "source": [
    "tissue_loop_df = pd.DataFrame(tissue_loop_dict).fillna(0)"
   ]
  },
  {
   "cell_type": "code",
   "execution_count": 7,
   "metadata": {},
   "outputs": [],
   "source": [
    "save_dir = '../data/processed/fig1/hichip'\n",
    "if not os.path.exists(save_dir):\n",
    "    os.makedirs(save_dir)"
   ]
  },
  {
   "cell_type": "code",
   "execution_count": 8,
   "metadata": {},
   "outputs": [],
   "source": [
    "tissue_loop_df.to_csv(os.path.join(save_dir,'tissue_loop_df.csv'))"
   ]
  },
  {
   "cell_type": "code",
   "execution_count": null,
   "metadata": {},
   "outputs": [],
   "source": []
  }
 ],
 "metadata": {
  "kernelspec": {
   "display_name": "Python 3",
   "language": "python",
   "name": "python3"
  },
  "language_info": {
   "codemirror_mode": {
    "name": "ipython",
    "version": 3
   },
   "file_extension": ".py",
   "mimetype": "text/x-python",
   "name": "python",
   "nbconvert_exporter": "python",
   "pygments_lexer": "ipython3",
   "version": "3.7.4"
  }
 },
 "nbformat": 4,
 "nbformat_minor": 4
}
