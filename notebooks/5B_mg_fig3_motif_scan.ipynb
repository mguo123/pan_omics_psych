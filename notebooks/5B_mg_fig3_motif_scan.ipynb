{
 "cells": [
  {
   "cell_type": "markdown",
   "metadata": {},
   "source": [
    "# 5B_mg_fig3_motif_scan\n",
    "\n",
    "05/27/2020\n"
   ]
  },
  {
   "cell_type": "code",
   "execution_count": 1,
   "metadata": {},
   "outputs": [],
   "source": [
    "import pandas as pd\n",
    "import os,glob\n",
    "import seaborn as sns\n",
    "import numpy as np\n",
    "import matplotlib.pyplot as plt\n",
    "from collections import defaultdict,Counter\n",
    "import time\n",
    "%load_ext autoreload\n",
    "\n",
    "%autoreload 2"
   ]
  },
  {
   "cell_type": "code",
   "execution_count": 2,
   "metadata": {},
   "outputs": [],
   "source": [
    "save_dir = '../data/processed/fig3_footprinting'\n",
    "if not os.path.exists(save_dir):\n",
    "    os.makedirs(save_dir)"
   ]
  },
  {
   "cell_type": "code",
   "execution_count": null,
   "metadata": {},
   "outputs": [],
   "source": []
  },
  {
   "cell_type": "code",
   "execution_count": 4,
   "metadata": {},
   "outputs": [],
   "source": [
    "annon_df = pd.read_csv('../data/external/HOCOMOCOv11_annotation.csv',index_col=0)\n",
    "annon_df['id_new'] = annon_df['id'] + '.pwm.trim'\n",
    "annon_df[['motif_abbr','motif_info']]=annon_df['id'].str.split(\"_\",expand=True)\n",
    "annon_dict = pd.Series(annon_df.tf.values, index=annon_df.motif_abbr.values).to_dict()\n",
    "# anno"
   ]
  },
  {
   "cell_type": "markdown",
   "metadata": {},
   "source": [
    "# cluster the hocomoco stuff"
   ]
  },
  {
   "cell_type": "code",
   "execution_count": 93,
   "metadata": {},
   "outputs": [
    {
     "data": {
      "text/plain": [
       "130"
      ]
     },
     "execution_count": 93,
     "metadata": {},
     "output_type": "execute_result"
    }
   ],
   "source": [
    "# clusters_df = pd.read_csv('/Users/mguo123/Documents/rsat/hocomoco_human_cluster/clusters_tf.csv')\n",
    "# clusters_df.columns = ['id','cluster']\n",
    "# clusters_df[['motif_abbr','motif_info']]=clusters_df['id'].str.split(\"_\",expand=True)\n",
    "# clusters_df['tf'] = clusters_df['motif_abbr'].map(annon_dict)\n",
    "# clusters_df.sort_values('cluster',inplace=True)\n",
    "# clusters_df_tf = clusters_df.groupby('tf').first() \n",
    "# clusters_df_tf.sort_values('cluster',inplace=True)\n",
    "# len(set(clusters_df_tf['cluster'])) # number of clusters"
   ]
  },
  {
   "cell_type": "code",
   "execution_count": 5,
   "metadata": {},
   "outputs": [],
   "source": [
    "# clusters_df_tf"
   ]
  },
  {
   "cell_type": "code",
   "execution_count": null,
   "metadata": {},
   "outputs": [],
   "source": []
  },
  {
   "cell_type": "code",
   "execution_count": 6,
   "metadata": {},
   "outputs": [],
   "source": [
    "# glob.glob('../data/raw/motif_scan/*bed')"
   ]
  },
  {
   "cell_type": "code",
   "execution_count": 7,
   "metadata": {},
   "outputs": [],
   "source": [
    "# tissue_map = {\n",
    "#     'Airway':'Airway',\n",
    "#     'Astrocytes':'Astrocytes',\n",
    "#     'Bladder':'Bladder',\n",
    "#     'Colon':'Colon',\n",
    "#     'Esophageal':'Esophageal',\n",
    "#     'GDSD0':'GDS-D0',\n",
    "#     'GDSD3':'GDS-D3',\n",
    "#     'GDSD6':'GDS-D6',\n",
    "#     'GM12878':'GM12878',\n",
    "#     'HMEC':'HMEC',\n",
    "#     'Melanocytes':'Melanocytes',\n",
    "#     'Ovarian':'Ovarian',\n",
    "#     'Pancreas':'Pancreas',\n",
    "#     'Prostate':'Prostate',\n",
    "#     'Renal':'Renal',\n",
    "#     'Thyroid':'Thyroid',\n",
    "#     'Uterine':'Uterine'   \n",
    "# }"
   ]
  },
  {
   "cell_type": "code",
   "execution_count": 8,
   "metadata": {},
   "outputs": [],
   "source": [
    "# %%time\n",
    "# scores_all = pd.DataFrame()\n",
    "# for tissue in ['Astrocytes','GDSD0','GDSD3','GDSD6','GM12878','Melanocytes']:\n",
    "#     print(tissue)\n",
    "#     start = time.time()\n",
    "#     bed_file = '../data/raw/motif_scan/' + tissue_map[tissue] + '_mpbs.bed'\n",
    "#     bed_df = pd.read_csv(bed_file, sep='\\t',header=None)\n",
    "#     bed_df.columns = ['chr', 'start', 'end', 'id', 'score', 'strand', 'etc']\n",
    "#     bed_df[['motif_name', 'info']] = bed_df['id'].str.split('_',expand=True)\n",
    "#     bed_df['tf'] = bed_df.motif_name.map(annon_dict)\n",
    "#     scores = bed_df.groupby('tf').agg(\n",
    "#     {'score':'mean','id':'count'}\n",
    "#     ).sort_values('score')\n",
    "#     scores.reset_index(inplace=True)\n",
    "#     scores.columns = ['tf','score', 'count']\n",
    "#     scores['tissue'] = tissue\n",
    "    \n",
    "#     scores_all = pd.concat([scores_all,scores],sort=False)\n",
    "    \n",
    "#     print(tissue,time.time()-start)\n"
   ]
  },
  {
   "cell_type": "code",
   "execution_count": 46,
   "metadata": {},
   "outputs": [],
   "source": [
    "# scores_all_sel = scores_all.copy()"
   ]
  },
  {
   "cell_type": "code",
   "execution_count": 82,
   "metadata": {},
   "outputs": [],
   "source": [
    "# scores_all_sel_piv = scores_all_sel.pivot('tissue','tf','count')\n",
    "# scores_all_sel_piv_norm = scores_all_sel_piv / scores_all_sel_piv.sum(axis=0)\n",
    "# scores_all_sel_piv_norm = scores_all_sel_piv_norm.divide(np.array(scores_all_sel_piv.sum(axis=1)),axis='rows')\n",
    "# scores_all_sel_piv_norm = scores_all_sel_piv_norm* scores_all_sel_piv.sum().sum()\n",
    "# scores_all_sel_piv_norm = scores_all_sel_piv_norm.applymap(lambda x: max(1e-3,x))"
   ]
  },
  {
   "cell_type": "code",
   "execution_count": 86,
   "metadata": {},
   "outputs": [
    {
     "data": {
      "text/plain": [
       "'../data/processed/fig3_footprinting/scores_all_sel_piv_norm.csv'"
      ]
     },
     "execution_count": 86,
     "metadata": {},
     "output_type": "execute_result"
    }
   ],
   "source": [
    "# scores_all_sel_piv_norm.to_csv(os.path.join(save_dir, 'scores_all_sel_piv_norm.csv'))\n",
    "# os.path.join(save_dir, 'scores_all_sel_piv_norm.csv')"
   ]
  },
  {
   "cell_type": "code",
   "execution_count": 9,
   "metadata": {},
   "outputs": [],
   "source": [
    "# scores_all_sel_piv / scores_all_sel_piv.sum(axis=0)"
   ]
  },
  {
   "cell_type": "code",
   "execution_count": 10,
   "metadata": {},
   "outputs": [],
   "source": [
    "# sns.heatmap(np.log(scores_all_sel.pivot('tissue','tf','count')))"
   ]
  },
  {
   "cell_type": "code",
   "execution_count": 5,
   "metadata": {},
   "outputs": [],
   "source": [
    "# %%time\n",
    "# tissue = 'GDSD0'\n",
    "# bed_file = '../data/raw/motif_scan/GDS-D0_mpbs.bed'\n",
    "\n",
    "# bed_df = pd.read_csv(bed_file, sep='\\t',header=None)\n",
    "# bed_df.columns = ['chr', 'start', 'end', 'id', 'score', 'strand', 'etc']\n",
    "# bed_df[['motif_name', 'info']] = bed_df['id'].str.split('_',expand=True)\n",
    "# bed_df['tf'] = bed_df.motif_name.map(annon_dict)"
   ]
  },
  {
   "cell_type": "code",
   "execution_count": 33,
   "metadata": {},
   "outputs": [],
   "source": [
    "# scores = bed_df.groupby('tf').agg(\n",
    "#     {'score':'mean','id':'count'}\n",
    "# ).sort_values('score')\n",
    "# scores.reset_index(inplace=True)\n",
    "# scores.columns = ['tf','score', 'count']\n",
    "# scores['tissue'] = tissue\n"
   ]
  },
  {
   "cell_type": "markdown",
   "metadata": {},
   "source": [
    "# Footprint - select"
   ]
  },
  {
   "cell_type": "code",
   "execution_count": 11,
   "metadata": {},
   "outputs": [
    {
     "data": {
      "text/plain": [
       "['../data/interim/merged/footprinting/H9_D4_merged.bed',\n",
       " '../data/interim/merged/footprinting/SLC_D0_merged.bed',\n",
       " '../data/interim/merged/footprinting/SL_D0_merged.bed',\n",
       " '../data/interim/merged/footprinting/SLC_D2_merged.bed',\n",
       " '../data/interim/merged/footprinting/SL_D2_merged.bed',\n",
       " '../data/interim/merged/footprinting/H9_D28_merged.bed',\n",
       " '../data/interim/merged/footprinting/H9_D0_merged.bed',\n",
       " '../data/interim/merged/footprinting/Astrocytes_merged.bed',\n",
       " '../data/interim/merged/footprinting/H9_D2_merged.bed',\n",
       " '../data/interim/merged/footprinting/H9_D10_merged.bed']"
      ]
     },
     "execution_count": 11,
     "metadata": {},
     "output_type": "execute_result"
    }
   ],
   "source": [
    "glob.glob( '../data/interim/merged/footprinting/*')"
   ]
  },
  {
   "cell_type": "code",
   "execution_count": 13,
   "metadata": {},
   "outputs": [
    {
     "name": "stdout",
     "output_type": "stream",
     "text": [
      "H9_D4\n",
      "H9_D4 4.977122068405151\n",
      "SLC_D0\n",
      "SLC_D0 4.019603967666626\n",
      "SL_D0\n",
      "SL_D0 2.6605968475341797\n",
      "SLC_D2\n",
      "SLC_D2 9.13040828704834\n",
      "SL_D2\n",
      "SL_D2 7.292366027832031\n",
      "H9_D28\n",
      "H9_D28 3.207197904586792\n",
      "H9_D0\n",
      "H9_D0 2.2397959232330322\n",
      "Astrocytes\n",
      "Astrocytes 2.9021801948547363\n",
      "H9_D2\n",
      "H9_D2 5.873520851135254\n",
      "H9_D10\n",
      "H9_D10 4.232763051986694\n",
      "CPU times: user 1min 12s, sys: 3.64 s, total: 1min 15s\n",
      "Wall time: 46.5 s\n"
     ]
    }
   ],
   "source": [
    "%%time\n",
    "scores_all_foot = pd.DataFrame()\n",
    "# for tissue in ['Astrocytes','GDSD0','GDSD3','GDSD6','GM12878','Melanocytes']:\n",
    "for bed_file in glob.glob( '../data/interim/merged/footprinting/*'):\n",
    "    tissue = os.path.basename(bed_file).split('_merged')[0]\n",
    "    print(tissue)\n",
    "    start = time.time()\n",
    "#     bed_file = '../data/interim/merged/footprinting/' + tissue + '_merged.bed'\n",
    "    bed_df = pd.read_csv(bed_file, sep='\\t',header=None)\n",
    "    bed_df.columns = ['chr', 'start', 'end', 'id', 'score', 'strand', 'etc']\n",
    "    bed_df[['motif_name', 'info']] = bed_df['id'].str.split('_',expand=True)\n",
    "    bed_df['tf'] = bed_df.motif_name.map(annon_dict)\n",
    "    scores = bed_df.groupby('tf').agg(\n",
    "    {'score':'mean','id':'count'}\n",
    "    ).sort_values('score')\n",
    "    scores.reset_index(inplace=True)\n",
    "    scores.columns = ['tf','score', 'count']\n",
    "    scores['tissue'] = tissue\n",
    "    \n",
    "    scores_all_foot = pd.concat([scores_all_foot,scores],sort=False)\n",
    "    \n",
    "    print(tissue,time.time()-start)\n"
   ]
  },
  {
   "cell_type": "code",
   "execution_count": 16,
   "metadata": {},
   "outputs": [
    {
     "data": {
      "text/html": [
       "<div>\n",
       "<style scoped>\n",
       "    .dataframe tbody tr th:only-of-type {\n",
       "        vertical-align: middle;\n",
       "    }\n",
       "\n",
       "    .dataframe tbody tr th {\n",
       "        vertical-align: top;\n",
       "    }\n",
       "\n",
       "    .dataframe thead th {\n",
       "        text-align: right;\n",
       "    }\n",
       "</style>\n",
       "<table border=\"1\" class=\"dataframe\">\n",
       "  <thead>\n",
       "    <tr style=\"text-align: right;\">\n",
       "      <th></th>\n",
       "      <th></th>\n",
       "      <th>score</th>\n",
       "      <th>count</th>\n",
       "    </tr>\n",
       "    <tr>\n",
       "      <th>tf</th>\n",
       "      <th>tissue</th>\n",
       "      <th></th>\n",
       "      <th></th>\n",
       "    </tr>\n",
       "  </thead>\n",
       "  <tbody>\n",
       "    <tr>\n",
       "      <td>AHR</td>\n",
       "      <td>Astrocytes</td>\n",
       "      <td>1</td>\n",
       "      <td>1</td>\n",
       "    </tr>\n",
       "    <tr>\n",
       "      <td rowspan=\"4\" valign=\"top\">RARG</td>\n",
       "      <td>SLC_D0</td>\n",
       "      <td>1</td>\n",
       "      <td>1</td>\n",
       "    </tr>\n",
       "    <tr>\n",
       "      <td>H9_D4</td>\n",
       "      <td>1</td>\n",
       "      <td>1</td>\n",
       "    </tr>\n",
       "    <tr>\n",
       "      <td>H9_D28</td>\n",
       "      <td>1</td>\n",
       "      <td>1</td>\n",
       "    </tr>\n",
       "    <tr>\n",
       "      <td>H9_D2</td>\n",
       "      <td>1</td>\n",
       "      <td>1</td>\n",
       "    </tr>\n",
       "    <tr>\n",
       "      <td>...</td>\n",
       "      <td>...</td>\n",
       "      <td>...</td>\n",
       "      <td>...</td>\n",
       "    </tr>\n",
       "    <tr>\n",
       "      <td rowspan=\"3\" valign=\"top\">HOXB6</td>\n",
       "      <td>H9_D28</td>\n",
       "      <td>1</td>\n",
       "      <td>1</td>\n",
       "    </tr>\n",
       "    <tr>\n",
       "      <td>H9_D2</td>\n",
       "      <td>1</td>\n",
       "      <td>1</td>\n",
       "    </tr>\n",
       "    <tr>\n",
       "      <td>H9_D10</td>\n",
       "      <td>1</td>\n",
       "      <td>1</td>\n",
       "    </tr>\n",
       "    <tr>\n",
       "      <td>HOXB8</td>\n",
       "      <td>SLC_D0</td>\n",
       "      <td>1</td>\n",
       "      <td>1</td>\n",
       "    </tr>\n",
       "    <tr>\n",
       "      <td>ZSCAN31</td>\n",
       "      <td>SL_D2</td>\n",
       "      <td>1</td>\n",
       "      <td>1</td>\n",
       "    </tr>\n",
       "  </tbody>\n",
       "</table>\n",
       "<p>6780 rows × 2 columns</p>\n",
       "</div>"
      ],
      "text/plain": [
       "                    score  count\n",
       "tf      tissue                  \n",
       "AHR     Astrocytes      1      1\n",
       "RARG    SLC_D0          1      1\n",
       "        H9_D4           1      1\n",
       "        H9_D28          1      1\n",
       "        H9_D2           1      1\n",
       "...                   ...    ...\n",
       "HOXB6   H9_D28          1      1\n",
       "        H9_D2           1      1\n",
       "        H9_D10          1      1\n",
       "HOXB8   SLC_D0          1      1\n",
       "ZSCAN31 SL_D2           1      1\n",
       "\n",
       "[6780 rows x 2 columns]"
      ]
     },
     "execution_count": 16,
     "metadata": {},
     "output_type": "execute_result"
    }
   ],
   "source": [
    "scores_all_foot.groupby(['tf','tissue']).count().sort_values('count')"
   ]
  },
  {
   "cell_type": "code",
   "execution_count": 17,
   "metadata": {},
   "outputs": [],
   "source": [
    "scores_all_foot_piv = scores_all_foot.pivot('tissue','tf','count')\n",
    "scores_all_foot_piv_norm = scores_all_foot_piv / scores_all_foot_piv.sum(axis=0)\n",
    "scores_all_foot_piv_norm = scores_all_foot_piv_norm.divide(np.array(scores_all_foot_piv.sum(axis=1)),axis='rows')\n",
    "scores_all_foot_piv_norm = scores_all_foot_piv_norm* scores_all_foot_piv.sum().sum()\n",
    "scores_all_foot_piv_norm = scores_all_foot_piv_norm.applymap(lambda x: max(1e-3,x))"
   ]
  },
  {
   "cell_type": "code",
   "execution_count": 18,
   "metadata": {},
   "outputs": [
    {
     "data": {
      "text/plain": [
       "'../data/processed/fig3_footprinting/scores_all_foot_norm.csv'"
      ]
     },
     "execution_count": 18,
     "metadata": {},
     "output_type": "execute_result"
    }
   ],
   "source": [
    "scores_all_foot_piv_norm.to_csv(os.path.join(save_dir, 'scores_all_foot_norm.csv'))\n",
    "os.path.join(save_dir, 'scores_all_foot_norm.csv')"
   ]
  },
  {
   "cell_type": "code",
   "execution_count": 14,
   "metadata": {},
   "outputs": [],
   "source": [
    "# %%time\n",
    "# scores_all_foot_all_tissue = pd.DataFrame()\n",
    "# for tissue in tissue_map.keys():\n",
    "#     print(tissue)\n",
    "#     start = time.time()\n",
    "#     bed_file = '../data/interim/merged/footprinting/' + tissue + '_merged.bed'\n",
    "#     bed_df = pd.read_csv(bed_file, sep='\\t',header=None)\n",
    "#     bed_df.columns = ['chr', 'start', 'end', 'id', 'score', 'strand', 'etc']\n",
    "#     bed_df[['motif_name', 'info']] = bed_df['id'].str.split('_',expand=True)\n",
    "#     bed_df['tf'] = bed_df.motif_name.map(annon_dict)\n",
    "#     scores = bed_df.groupby('tf').agg(\n",
    "#     {'score':'mean','id':'count'}\n",
    "#     ).sort_values('score')\n",
    "#     scores.reset_index(inplace=True)\n",
    "#     scores.columns = ['tf','score', 'count']\n",
    "#     scores['tissue'] = tissue\n",
    "    \n",
    "#     scores_all_foot_all_tissue = pd.concat([scores_all_foot_all_tissue,scores],sort=False)\n",
    "    \n",
    "#     print(tissue,time.time()-start)\n"
   ]
  },
  {
   "cell_type": "code",
   "execution_count": 127,
   "metadata": {},
   "outputs": [],
   "source": [
    "# scores_all_foot_all_tissue_piv = scores_all_foot_all_tissue.pivot('tissue','tf','count')\n",
    "# scores_all_foot_all_tissue_piv_norm = scores_all_foot_all_tissue_piv / scores_all_foot_all_tissue_piv.sum(axis=0)\n",
    "# scores_all_foot_all_tissue_piv_norm = scores_all_foot_all_tissue_piv_norm.divide(np.array(scores_all_foot_all_tissue_piv.sum(axis=1)),axis='rows')\n",
    "# scores_all_foot_all_tissue_piv_norm = scores_all_foot_all_tissue_piv_norm* scores_all_foot_all_tissue_piv.sum().sum()\n",
    "# scores_all_foot_all_tissue_piv_norm = scores_all_foot_all_tissue_piv_norm.applymap(lambda x: max(1e-3,x))"
   ]
  },
  {
   "cell_type": "code",
   "execution_count": 15,
   "metadata": {},
   "outputs": [],
   "source": [
    "# scores_all_foot_all_tissue_piv_norm.to_csv(os.path.join(save_dir, 'scores_all_foot_all_tissue_piv_norm.csv'))\n",
    "# os.path.join(save_dir, 'scores_all_foot_all_tissue_piv_norm.csv')"
   ]
  },
  {
   "cell_type": "code",
   "execution_count": null,
   "metadata": {},
   "outputs": [],
   "source": []
  }
 ],
 "metadata": {
  "kernelspec": {
   "display_name": "Python 3",
   "language": "python",
   "name": "python3"
  },
  "language_info": {
   "codemirror_mode": {
    "name": "ipython",
    "version": 3
   },
   "file_extension": ".py",
   "mimetype": "text/x-python",
   "name": "python",
   "nbconvert_exporter": "python",
   "pygments_lexer": "ipython3",
   "version": "3.7.4"
  }
 },
 "nbformat": 4,
 "nbformat_minor": 4
}
