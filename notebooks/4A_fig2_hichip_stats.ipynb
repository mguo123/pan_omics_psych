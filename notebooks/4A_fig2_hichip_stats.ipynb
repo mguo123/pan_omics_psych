{
 "cells": [
  {
   "cell_type": "markdown",
   "metadata": {},
   "source": [
    "# Find stats\n",
    "\n",
    "for hichip figure plus supplements\n",
    "\n",
    "05/08/2020\n",
    "\n",
    "05/12/2020 - update how we find the promoter regions"
   ]
  },
  {
   "cell_type": "code",
   "execution_count": 1,
   "metadata": {},
   "outputs": [],
   "source": [
    "import os, glob\n",
    "import pandas as pd\n",
    "import numpy as np\n",
    "import pybedtools\n",
    "import matplotlib.pyplot as plt\n",
    "import seaborn as sns"
   ]
  },
  {
   "cell_type": "code",
   "execution_count": 2,
   "metadata": {},
   "outputs": [],
   "source": [
    "save_dir = '../data/processed/fig2_hichip'\n",
    "if not os.path.exists(save_dir):\n",
    "    os.makedirs(save_dir)"
   ]
  },
  {
   "cell_type": "code",
   "execution_count": null,
   "metadata": {},
   "outputs": [],
   "source": []
  },
  {
   "cell_type": "code",
   "execution_count": 3,
   "metadata": {},
   "outputs": [],
   "source": [
    "loop_files = glob.glob('../data/interim/merged/loops/*.loops.csv')\n",
    "anchor_annon_dir = '../data/interim/annon/anchor_atac'\n",
    "anchor_annon_files = glob.glob('../data/interim/annon/anchor_atac/*_annon.bed')\n",
    "promoter_annon_dir = '../data/interim/annon/promoter_anchors/'\n",
    "promoter_annon_files = glob.glob('../data/interim/annon/promoter_anchors/promoter_*_annon.bed')\n",
    "# anchor_annon_files\n",
    "anchor_dir = '../data/interim/merged/anchors/'\n",
    "anchor_files = glob.glob('../data/interim/merged/anchors/*.anchors.csv')"
   ]
  },
  {
   "cell_type": "code",
   "execution_count": 15,
   "metadata": {},
   "outputs": [],
   "source": [
    "normal_tissues = [ \"Astrocytes\",\"H9_D0\",\"H9_D10\",\"H9_D2\",\"H9_D28\",\"H9_D4\",\"SL_D0\",\"SL_D2\",\"SLC_D0\",\"SLC_D2\"]\n",
    "normal_tissues = [ \"Astrocytes\",\"H9_D0\",\"H9_D10\",\"H9_D2\",\"H9_D28\",\"SL_D0\",\"SL_D2\",\"SLC_D0\",\"SLC_D2\"]\n",
    "\n"
   ]
  },
  {
   "cell_type": "markdown",
   "metadata": {},
   "source": [
    "# 1. Find Stats of of distribution of loop width"
   ]
  },
  {
   "cell_type": "code",
   "execution_count": 5,
   "metadata": {},
   "outputs": [
    {
     "name": "stderr",
     "output_type": "stream",
     "text": [
      "/Users/mguo123/opt/anaconda3/lib/python3.7/site-packages/numpy/lib/arraysetops.py:568: FutureWarning: elementwise comparison failed; returning scalar instead, but in the future will perform elementwise comparison\n",
      "  mask |= (ar1 == a)\n"
     ]
    },
    {
     "name": "stdout",
     "output_type": "stream",
     "text": [
      "Astrocytes (1839205, 2)\n",
      "H9_D0 (3157921, 2)\n",
      "H9_D10 (3870454, 2)\n",
      "H9_D2 (10590560, 2)\n",
      "H9_D28 (11847519, 2)\n",
      "SLC_D0 (14506601, 2)\n",
      "SLC_D2 (18788756, 2)\n",
      "SL_D0 (19976355, 2)\n",
      "SL_D2 (25300784, 2)\n",
      "CPU times: user 3min 54s, sys: 5.95 s, total: 4min\n",
      "Wall time: 3min 9s\n"
     ]
    }
   ],
   "source": [
    "%%time\n",
    "loop_width_df = pd.DataFrame(columns=['loop_width','tissue'])\n",
    "for loop_file in sorted(loop_files):\n",
    "    loop_filename = os.path.basename(loop_file)\n",
    "    tissue = loop_filename.split('.')[0]\n",
    "    loop_df = pd.read_csv(loop_file, index_col=0)\n",
    "    loop_df[['chrA','startA','stopA']] = loop_df.source.str.split('_',expand=True)\n",
    "    loop_df[['chrB','startB','stopB']] = loop_df.target.str.split('_',expand=True)\n",
    "    loop_df['loop_width'] = loop_df.startB.map(int) - loop_df.startA.map(int)\n",
    "    loop_df['tissue'] = tissue\n",
    "    loop_width_df = pd.concat([loop_width_df, loop_df[['loop_width', 'tissue']]])\n",
    "    print(tissue, loop_width_df.shape)\n",
    "    \n"
   ]
  },
  {
   "cell_type": "code",
   "execution_count": 12,
   "metadata": {},
   "outputs": [
    {
     "name": "stdout",
     "output_type": "stream",
     "text": [
      "(25300784, 2) (25300784, 2)\n"
     ]
    }
   ],
   "source": [
    "loop_width_normal_df = loop_width_df[loop_width_df.tissue.isin(normal_tissues)]\n",
    "print(loop_width_df.shape, loop_width_normal_df.shape)\n",
    "loop_width_df.to_csv(os.path.join(save_dir, 'loop_width_df.csv'))\n",
    "loop_width_normal_df.to_csv(os.path.join(save_dir, 'loop_width_normal_df.csv'))\n",
    "# loop_width_df[:5]\n",
    "# loop_width_df_test = loop_width_df[(loop_width_df.tissue=='Air')|(loop_width_df.tissue=='MC') ]"
   ]
  },
  {
   "cell_type": "markdown",
   "metadata": {},
   "source": [
    "# 2. Loop and Anchor statistics\n",
    "\n",
    "for each tissue (split normal and all) get following stats\n",
    "- num unique loops\n",
    "- num unique anchors\n",
    "- num common loops\n",
    "- num common anchors \n",
    "- num loops\n",
    "- num anchors \t\n",
    "\n",
    "summative stats (across all tissues)\n",
    "    - total number of distinct anchors\n",
    "    - total number of distinct loops"
   ]
  },
  {
   "cell_type": "code",
   "execution_count": 7,
   "metadata": {},
   "outputs": [
    {
     "name": "stdout",
     "output_type": "stream",
     "text": [
      "Astrocytes\n",
      "H9_D0\n",
      "H9_D10\n",
      "H9_D2\n",
      "H9_D28\n",
      "SLC_D0\n",
      "SLC_D2\n",
      "SL_D0\n",
      "SL_D2\n",
      "CPU times: user 12min 56s, sys: 3.82 s, total: 13min\n",
      "Wall time: 12min 16s\n"
     ]
    }
   ],
   "source": [
    "%%time\n",
    "# first get set of all loops\n",
    "# all_loops, all_loops_normal = set(),set()\n",
    "# all_anchors, all_anchors_normal = set(),set()\n",
    "\n",
    "tissues = []\n",
    "loops_all_df = pd.DataFrame(columns=['loop_name','tissue'])\n",
    "anchors_all_df = pd.DataFrame(columns=['anchors','tissue'])\n",
    "\n",
    "# tissue_info_dict = {}\n",
    "for loop_file in sorted(loop_files):\n",
    "    loop_filename = os.path.basename(loop_file)\n",
    "    tissue = loop_filename.split('.')[0]\n",
    "    tissues.append(tissue)\n",
    "    anchor_file = os.path.join(anchor_dir, tissue+'.anchors.csv')\n",
    "    loop_df = pd.read_csv(loop_file, index_col=0)\n",
    "    loop_df['loop_name'] = loop_df.apply(lambda row: '::'.join(sorted([row.source,row.target])),axis=1)\n",
    "    loop_df['tissue'] = tissue\n",
    "    \n",
    "    anchor_df = pd.read_csv(anchor_file, index_col=0)\n",
    "    anchor_df['tissue'] = tissue\n",
    "   \n",
    "    loops_all_df = pd.concat([loops_all_df, loop_df[['loop_name', 'tissue']]])\n",
    "    anchors_all_df = pd.concat([anchors_all_df, anchor_df[['anchors', 'tissue']]])\n",
    "    print(tissue)\n",
    "    \n",
    "#     tissue_info_dict[tissue] = [loop_df,anchor_df,anchor_to_count_dict]\n",
    "    \n",
    "#     all_loops  = all_loops.union(set(loop_df.loop_name))\n",
    "#     all_anchors  = all_anchors.union(set(anchor_df.anchors))\n",
    "                                         \n",
    "#     if tissue in normal_tissues:\n",
    "#         all_loops_normal = all_loops_normal.union(set(loop_df.loop_name))\n",
    "#         all_anchors_normal = all_anchors_normal.union(set(anchor_df.anchors))                            \n",
    "    "
   ]
  },
  {
   "cell_type": "code",
   "execution_count": 10,
   "metadata": {},
   "outputs": [],
   "source": [
    "all_loops = loops_all_df.loop_name.unique()\n",
    "all_loops_normal = loops_all_df.loop_name[loops_all_df.tissue.isin(normal_tissues)].unique()\n",
    "all_anchors = anchors_all_df.anchors.unique()\n",
    "all_anchors_normal = anchors_all_df.anchors[anchors_all_df.tissue.isin(normal_tissues)].unique()\n"
   ]
  },
  {
   "cell_type": "code",
   "execution_count": 14,
   "metadata": {},
   "outputs": [
    {
     "data": {
      "text/html": [
       "<div>\n",
       "<style scoped>\n",
       "    .dataframe tbody tr th:only-of-type {\n",
       "        vertical-align: middle;\n",
       "    }\n",
       "\n",
       "    .dataframe tbody tr th {\n",
       "        vertical-align: top;\n",
       "    }\n",
       "\n",
       "    .dataframe thead th {\n",
       "        text-align: right;\n",
       "    }\n",
       "</style>\n",
       "<table border=\"1\" class=\"dataframe\">\n",
       "  <thead>\n",
       "    <tr style=\"text-align: right;\">\n",
       "      <th></th>\n",
       "      <th>loop_name</th>\n",
       "      <th>tissue</th>\n",
       "      <th>count</th>\n",
       "    </tr>\n",
       "  </thead>\n",
       "  <tbody>\n",
       "    <tr>\n",
       "      <td>1</td>\n",
       "      <td>chr10_100000000_100005000::chr10_100015000_100...</td>\n",
       "      <td>Astrocytes</td>\n",
       "      <td>1</td>\n",
       "    </tr>\n",
       "    <tr>\n",
       "      <td>16</td>\n",
       "      <td>chr10_100000000_100005000::chr10_100160000_100...</td>\n",
       "      <td>Astrocytes</td>\n",
       "      <td>1</td>\n",
       "    </tr>\n",
       "    <tr>\n",
       "      <td>18</td>\n",
       "      <td>chr10_100000000_100005000::chr10_100195000_100...</td>\n",
       "      <td>Astrocytes</td>\n",
       "      <td>1</td>\n",
       "    </tr>\n",
       "    <tr>\n",
       "      <td>143</td>\n",
       "      <td>chr10_10000000_10005000::chr10_11035000_11040000</td>\n",
       "      <td>Astrocytes</td>\n",
       "      <td>1</td>\n",
       "    </tr>\n",
       "    <tr>\n",
       "      <td>199</td>\n",
       "      <td>chr10_1000000_1005000::chr10_1020000_1025000</td>\n",
       "      <td>Astrocytes</td>\n",
       "      <td>1</td>\n",
       "    </tr>\n",
       "    <tr>\n",
       "      <td>...</td>\n",
       "      <td>...</td>\n",
       "      <td>...</td>\n",
       "      <td>...</td>\n",
       "    </tr>\n",
       "    <tr>\n",
       "      <td>80042894</td>\n",
       "      <td>chrX_100460000_100465000::chrX_99995000_100000000</td>\n",
       "      <td>SL_D2</td>\n",
       "      <td>1</td>\n",
       "    </tr>\n",
       "    <tr>\n",
       "      <td>80042906</td>\n",
       "      <td>chrX_100535000_100540000::chrX_99995000_100000000</td>\n",
       "      <td>SL_D2</td>\n",
       "      <td>1</td>\n",
       "    </tr>\n",
       "    <tr>\n",
       "      <td>80042911</td>\n",
       "      <td>chrX_100590000_100595000::chrX_99995000_100000000</td>\n",
       "      <td>SL_D2</td>\n",
       "      <td>1</td>\n",
       "    </tr>\n",
       "    <tr>\n",
       "      <td>80042912</td>\n",
       "      <td>chrX_100635000_100640000::chrX_99995000_100000000</td>\n",
       "      <td>SL_D2</td>\n",
       "      <td>1</td>\n",
       "    </tr>\n",
       "    <tr>\n",
       "      <td>80042916</td>\n",
       "      <td>chrX_100905000_100910000::chrX_99995000_100000000</td>\n",
       "      <td>SL_D2</td>\n",
       "      <td>1</td>\n",
       "    </tr>\n",
       "  </tbody>\n",
       "</table>\n",
       "<p>25300784 rows × 3 columns</p>\n",
       "</div>"
      ],
      "text/plain": [
       "                                                  loop_name      tissue  count\n",
       "1         chr10_100000000_100005000::chr10_100015000_100...  Astrocytes      1\n",
       "16        chr10_100000000_100005000::chr10_100160000_100...  Astrocytes      1\n",
       "18        chr10_100000000_100005000::chr10_100195000_100...  Astrocytes      1\n",
       "143        chr10_10000000_10005000::chr10_11035000_11040000  Astrocytes      1\n",
       "199            chr10_1000000_1005000::chr10_1020000_1025000  Astrocytes      1\n",
       "...                                                     ...         ...    ...\n",
       "80042894  chrX_100460000_100465000::chrX_99995000_100000000       SL_D2      1\n",
       "80042906  chrX_100535000_100540000::chrX_99995000_100000000       SL_D2      1\n",
       "80042911  chrX_100590000_100595000::chrX_99995000_100000000       SL_D2      1\n",
       "80042912  chrX_100635000_100640000::chrX_99995000_100000000       SL_D2      1\n",
       "80042916  chrX_100905000_100910000::chrX_99995000_100000000       SL_D2      1\n",
       "\n",
       "[25300784 rows x 3 columns]"
      ]
     },
     "execution_count": 14,
     "metadata": {},
     "output_type": "execute_result"
    }
   ],
   "source": [
    "loops_all_df"
   ]
  },
  {
   "cell_type": "code",
   "execution_count": 13,
   "metadata": {},
   "outputs": [],
   "source": [
    "# get loop/anchor by tissue binary matrix, 1 or 0 depending on whether loop/anchor exists in tissue\n",
    "loops_all_df['count']=1\n",
    "loop_counts = loops_all_df.pivot_table(index='loop_name', columns='tissue',values='count', fill_value=0)\n",
    "\n",
    "anchors_all_df['count']=1\n",
    "anchor_counts = anchors_all_df.pivot_table(index='anchors', columns='tissue',values='count', fill_value=0)"
   ]
  },
  {
   "cell_type": "code",
   "execution_count": 16,
   "metadata": {},
   "outputs": [],
   "source": [
    "loop_counts_normal = loop_counts[normal_tissues]\n",
    "anchor_counts_normal = anchor_counts[normal_tissues]"
   ]
  },
  {
   "cell_type": "code",
   "execution_count": 17,
   "metadata": {},
   "outputs": [],
   "source": [
    "loop_counts['num_tissues'] = loop_counts.sum(axis=1)\n",
    "loop_counts_normal['num_tissues'] = loop_counts_normal.sum(axis=1)\n",
    "anchor_counts['num_tissues'] = anchor_counts.sum(axis=1)\n",
    "anchor_counts_normal['num_tissues'] = anchor_counts_normal.sum(axis=1)"
   ]
  },
  {
   "cell_type": "code",
   "execution_count": 18,
   "metadata": {},
   "outputs": [],
   "source": [
    "all_counts_results_df = pd.DataFrame()\n",
    "all_counts_results_df['num_loops'] = loop_counts.sum(axis=0)\n",
    "all_counts_results_df['num_unique_loops'] = loop_counts[loop_counts.num_tissues==1].sum()\n",
    "all_counts_results_df['num_common_loops'] = loop_counts[loop_counts.num_tissues==(loop_counts.shape[1]-1)].sum()\n",
    "all_counts_results_df['num_anchors'] = anchor_counts.sum(axis=0)\n",
    "all_counts_results_df['num_unique_anchors'] = anchor_counts[anchor_counts.num_tissues==1].sum()\n",
    "all_counts_results_df['num_common_anchors'] = anchor_counts[anchor_counts.num_tissues==(anchor_counts.shape[1]-1)].sum()\n",
    "all_counts_results_df.drop('num_tissues',inplace=True)"
   ]
  },
  {
   "cell_type": "code",
   "execution_count": 19,
   "metadata": {},
   "outputs": [],
   "source": [
    "all_counts_results_normal_df = pd.DataFrame()\n",
    "all_counts_results_normal_df['num_loops'] = loop_counts_normal.sum(axis=0)\n",
    "all_counts_results_normal_df['num_unique_loops'] = loop_counts_normal[loop_counts_normal.num_tissues==1].sum()\n",
    "all_counts_results_normal_df['num_common_loops'] = loop_counts_normal[loop_counts_normal.num_tissues==(loop_counts_normal.shape[1]-1)].sum()\n",
    "all_counts_results_normal_df['num_anchors'] = anchor_counts_normal.sum(axis=0)\n",
    "all_counts_results_normal_df['num_unique_anchors'] = anchor_counts_normal[anchor_counts_normal.num_tissues==1].sum()\n",
    "all_counts_results_normal_df['num_common_anchors'] = anchor_counts_normal[anchor_counts_normal.num_tissues==(anchor_counts_normal.shape[1]-1)].sum()\n",
    "all_counts_results_normal_df.drop('num_tissues',inplace=True)"
   ]
  },
  {
   "cell_type": "code",
   "execution_count": 20,
   "metadata": {},
   "outputs": [],
   "source": [
    "all_counts_results_df.to_csv(os.path.join(save_dir, 'all_counts_results_df.csv'))\n",
    "all_counts_results_normal_df.to_csv(os.path.join(save_dir, 'all_counts_results_normal_df.csv'))"
   ]
  },
  {
   "cell_type": "code",
   "execution_count": 21,
   "metadata": {},
   "outputs": [
    {
     "name": "stdout",
     "output_type": "stream",
     "text": [
      "Total # of loops all tissues:  25300784\n",
      "Total # unique loops all tissues:  4438651\n",
      "Total # common loops all tissues:  41329\n",
      "Total # of anchors all samples:  3211257\n",
      "Total # unique anchors all tissues:  21922\n",
      "Total # common anchors all tissues:  103354\n",
      "\n",
      "Total # of loops normal tissues :  25300784\n",
      "Total # unique loops normal tissues:  4438651\n",
      "Total # common loops normal tissues:  41329\n",
      "Total # of anchors all samples normal:  3211257\n",
      "Total # unique anchors normal tissues:  21922\n",
      "Total # common anchors normal tissues:  103354\n"
     ]
    }
   ],
   "source": [
    "\n",
    "print('Total # of loops all tissues: ',all_counts_results_df.num_loops.sum())\n",
    "print('Total # unique loops all tissues: ',all_counts_results_df.num_unique_loops.sum())\n",
    "print('Total # common loops all tissues: ',all_counts_results_df.num_common_loops[0])\n",
    "\n",
    "print('Total # of anchors all samples: ',all_counts_results_df.num_anchors.sum())\n",
    "print('Total # unique anchors all tissues: ',all_counts_results_df.num_unique_anchors.sum())\n",
    "print('Total # common anchors all tissues: ',all_counts_results_df.num_common_anchors[0])\n",
    "\n",
    "print()\n",
    "\n",
    "print('Total # of loops normal tissues : ',all_counts_results_normal_df.num_loops.sum())\n",
    "print('Total # unique loops normal tissues: ',all_counts_results_normal_df.num_unique_loops.sum())\n",
    "print('Total # common loops normal tissues: ',all_counts_results_normal_df.num_common_loops[0])\n",
    "\n",
    "\n",
    "print('Total # of anchors all samples normal: ',all_counts_results_normal_df.num_anchors.sum())\n",
    "print('Total # unique anchors normal tissues: ',all_counts_results_normal_df.num_unique_anchors.sum())\n",
    "print('Total # common anchors normal tissues: ',all_counts_results_normal_df.num_common_anchors[0])"
   ]
  },
  {
   "cell_type": "markdown",
   "metadata": {},
   "source": [
    "## 2B. save lists of anchors and loops that have been annotated \n",
    "\n",
    "- find closest gene\n",
    "- find common genes on loops "
   ]
  },
  {
   "cell_type": "code",
   "execution_count": 22,
   "metadata": {},
   "outputs": [],
   "source": [
    "anchors_all = anchor_counts.index\n",
    "len(anchors_all)\n",
    "anchors_bed = pybedtools.BedTool.from_dataframe(pd.Series(anchors_all).str.split('_',expand=True)).sort()"
   ]
  },
  {
   "cell_type": "code",
   "execution_count": 23,
   "metadata": {},
   "outputs": [
    {
     "data": {
      "text/plain": [
       "(541373, 541373)"
      ]
     },
     "execution_count": 23,
     "metadata": {},
     "output_type": "execute_result"
    }
   ],
   "source": [
    "len(anchors_bed), len(anchors_all)"
   ]
  },
  {
   "cell_type": "code",
   "execution_count": 24,
   "metadata": {},
   "outputs": [
    {
     "data": {
      "text/plain": [
       "(20314, 20314)"
      ]
     },
     "execution_count": 24,
     "metadata": {},
     "output_type": "execute_result"
    }
   ],
   "source": [
    "tss_df = pd.read_csv('../data/external/gene_annon_hg19.csv',index_col=0)\n",
    "tss_bed = pybedtools.BedTool.from_dataframe(tss_df[['chr','start','end', 'gene']]).sort()\n",
    "len(tss_bed), len(tss_df)"
   ]
  },
  {
   "cell_type": "code",
   "execution_count": 25,
   "metadata": {},
   "outputs": [],
   "source": [
    "anchors_bed_closest_gene = anchors_bed.closest(tss_bed, d=True)\n",
    "len(anchors_bed_closest_gene)\n",
    "anchors_closest_gene_df = anchors_bed_closest_gene.to_dataframe()\n",
    "anchors_closest_gene_df.columns = ['chr', 'start', 'stop', 'chr_tss', 'start_tss', 'stop_tss', 'gene', 'dist_to_TSS']\n",
    "anchors_closest_gene_df['anchor_name'] = anchors_closest_gene_df.chr + '_' + anchors_closest_gene_df.start.map(str) + '_' + anchors_closest_gene_df.stop.map(str)\n",
    "anchors_closest_gene_df.to_csv(os.path.join(save_dir, 'anchors_closest_gene_df.csv'))"
   ]
  },
  {
   "cell_type": "code",
   "execution_count": 26,
   "metadata": {},
   "outputs": [
    {
     "data": {
      "text/html": [
       "<div>\n",
       "<style scoped>\n",
       "    .dataframe tbody tr th:only-of-type {\n",
       "        vertical-align: middle;\n",
       "    }\n",
       "\n",
       "    .dataframe tbody tr th {\n",
       "        vertical-align: top;\n",
       "    }\n",
       "\n",
       "    .dataframe thead th {\n",
       "        text-align: right;\n",
       "    }\n",
       "</style>\n",
       "<table border=\"1\" class=\"dataframe\">\n",
       "  <thead>\n",
       "    <tr style=\"text-align: right;\">\n",
       "      <th></th>\n",
       "      <th>chr</th>\n",
       "      <th>start</th>\n",
       "      <th>stop</th>\n",
       "      <th>chr_tss</th>\n",
       "      <th>start_tss</th>\n",
       "      <th>stop_tss</th>\n",
       "      <th>gene</th>\n",
       "      <th>dist_to_TSS</th>\n",
       "      <th>anchor_name</th>\n",
       "    </tr>\n",
       "  </thead>\n",
       "  <tbody>\n",
       "    <tr>\n",
       "      <td>0</td>\n",
       "      <td>chr1</td>\n",
       "      <td>15000</td>\n",
       "      <td>20000</td>\n",
       "      <td>chr1</td>\n",
       "      <td>69091</td>\n",
       "      <td>70008</td>\n",
       "      <td>OR4F5</td>\n",
       "      <td>49092</td>\n",
       "      <td>chr1_15000_20000</td>\n",
       "    </tr>\n",
       "    <tr>\n",
       "      <td>1</td>\n",
       "      <td>chr1</td>\n",
       "      <td>100000</td>\n",
       "      <td>105000</td>\n",
       "      <td>chr1</td>\n",
       "      <td>134901</td>\n",
       "      <td>139379</td>\n",
       "      <td>AL627309.1</td>\n",
       "      <td>29902</td>\n",
       "      <td>chr1_100000_105000</td>\n",
       "    </tr>\n",
       "    <tr>\n",
       "      <td>2</td>\n",
       "      <td>chr1</td>\n",
       "      <td>125000</td>\n",
       "      <td>130000</td>\n",
       "      <td>chr1</td>\n",
       "      <td>134901</td>\n",
       "      <td>139379</td>\n",
       "      <td>AL627309.1</td>\n",
       "      <td>4902</td>\n",
       "      <td>chr1_125000_130000</td>\n",
       "    </tr>\n",
       "    <tr>\n",
       "      <td>3</td>\n",
       "      <td>chr1</td>\n",
       "      <td>130000</td>\n",
       "      <td>135000</td>\n",
       "      <td>chr1</td>\n",
       "      <td>134901</td>\n",
       "      <td>139379</td>\n",
       "      <td>AL627309.1</td>\n",
       "      <td>0</td>\n",
       "      <td>chr1_130000_135000</td>\n",
       "    </tr>\n",
       "    <tr>\n",
       "      <td>4</td>\n",
       "      <td>chr1</td>\n",
       "      <td>235000</td>\n",
       "      <td>240000</td>\n",
       "      <td>chr1</td>\n",
       "      <td>134901</td>\n",
       "      <td>139379</td>\n",
       "      <td>AL627309.1</td>\n",
       "      <td>95622</td>\n",
       "      <td>chr1_235000_240000</td>\n",
       "    </tr>\n",
       "  </tbody>\n",
       "</table>\n",
       "</div>"
      ],
      "text/plain": [
       "    chr   start    stop chr_tss  start_tss  stop_tss        gene  dist_to_TSS  \\\n",
       "0  chr1   15000   20000    chr1      69091     70008       OR4F5        49092   \n",
       "1  chr1  100000  105000    chr1     134901    139379  AL627309.1        29902   \n",
       "2  chr1  125000  130000    chr1     134901    139379  AL627309.1         4902   \n",
       "3  chr1  130000  135000    chr1     134901    139379  AL627309.1            0   \n",
       "4  chr1  235000  240000    chr1     134901    139379  AL627309.1        95622   \n",
       "\n",
       "          anchor_name  \n",
       "0    chr1_15000_20000  \n",
       "1  chr1_100000_105000  \n",
       "2  chr1_125000_130000  \n",
       "3  chr1_130000_135000  \n",
       "4  chr1_235000_240000  "
      ]
     },
     "execution_count": 26,
     "metadata": {},
     "output_type": "execute_result"
    }
   ],
   "source": [
    "anchors_closest_gene_df[:5]"
   ]
  },
  {
   "cell_type": "code",
   "execution_count": 27,
   "metadata": {},
   "outputs": [],
   "source": [
    "anchors_bed_overlapping_gene = anchors_bed.intersect(tss_bed, wa=True, wb=True, f=0.5)\n",
    "len(anchors_bed_overlapping_gene)\n",
    "anchors_overlapping_gene_df = anchors_bed_overlapping_gene.to_dataframe()\n",
    "anchors_overlapping_gene_df.columns = ['chr', 'start', 'stop', 'chr_tss', 'start_tss', 'stop_tss', 'gene']\n",
    "anchors_overlapping_gene_df['anchor_name'] = anchors_overlapping_gene_df.chr + '_' + anchors_overlapping_gene_df.start.map(str) + '_' + anchors_overlapping_gene_df.stop.map(str)\n",
    "anchors_overlapping_gene_df.to_csv(os.path.join(save_dir, 'anchors_overlapping_gene_df.csv'))"
   ]
  },
  {
   "cell_type": "code",
   "execution_count": 28,
   "metadata": {},
   "outputs": [
    {
     "data": {
      "text/html": [
       "<div>\n",
       "<style scoped>\n",
       "    .dataframe tbody tr th:only-of-type {\n",
       "        vertical-align: middle;\n",
       "    }\n",
       "\n",
       "    .dataframe tbody tr th {\n",
       "        vertical-align: top;\n",
       "    }\n",
       "\n",
       "    .dataframe thead th {\n",
       "        text-align: right;\n",
       "    }\n",
       "</style>\n",
       "<table border=\"1\" class=\"dataframe\">\n",
       "  <thead>\n",
       "    <tr style=\"text-align: right;\">\n",
       "      <th></th>\n",
       "      <th>chr</th>\n",
       "      <th>start</th>\n",
       "      <th>stop</th>\n",
       "      <th>chr_tss</th>\n",
       "      <th>start_tss</th>\n",
       "      <th>stop_tss</th>\n",
       "      <th>gene</th>\n",
       "      <th>anchor_name</th>\n",
       "    </tr>\n",
       "  </thead>\n",
       "  <tbody>\n",
       "    <tr>\n",
       "      <td>0</td>\n",
       "      <td>chr1</td>\n",
       "      <td>860000</td>\n",
       "      <td>865000</td>\n",
       "      <td>chr1</td>\n",
       "      <td>861264</td>\n",
       "      <td>866445</td>\n",
       "      <td>AL645608.1</td>\n",
       "      <td>chr1_860000_865000</td>\n",
       "    </tr>\n",
       "    <tr>\n",
       "      <td>1</td>\n",
       "      <td>chr1</td>\n",
       "      <td>860000</td>\n",
       "      <td>865000</td>\n",
       "      <td>chr1</td>\n",
       "      <td>860260</td>\n",
       "      <td>879955</td>\n",
       "      <td>SAMD11</td>\n",
       "      <td>chr1_860000_865000</td>\n",
       "    </tr>\n",
       "    <tr>\n",
       "      <td>2</td>\n",
       "      <td>chr1</td>\n",
       "      <td>865000</td>\n",
       "      <td>870000</td>\n",
       "      <td>chr1</td>\n",
       "      <td>860260</td>\n",
       "      <td>879955</td>\n",
       "      <td>SAMD11</td>\n",
       "      <td>chr1_865000_870000</td>\n",
       "    </tr>\n",
       "    <tr>\n",
       "      <td>3</td>\n",
       "      <td>chr1</td>\n",
       "      <td>870000</td>\n",
       "      <td>875000</td>\n",
       "      <td>chr1</td>\n",
       "      <td>860260</td>\n",
       "      <td>879955</td>\n",
       "      <td>SAMD11</td>\n",
       "      <td>chr1_870000_875000</td>\n",
       "    </tr>\n",
       "    <tr>\n",
       "      <td>4</td>\n",
       "      <td>chr1</td>\n",
       "      <td>875000</td>\n",
       "      <td>880000</td>\n",
       "      <td>chr1</td>\n",
       "      <td>860260</td>\n",
       "      <td>879955</td>\n",
       "      <td>SAMD11</td>\n",
       "      <td>chr1_875000_880000</td>\n",
       "    </tr>\n",
       "  </tbody>\n",
       "</table>\n",
       "</div>"
      ],
      "text/plain": [
       "    chr   start    stop chr_tss  start_tss  stop_tss        gene  \\\n",
       "0  chr1  860000  865000    chr1     861264    866445  AL645608.1   \n",
       "1  chr1  860000  865000    chr1     860260    879955      SAMD11   \n",
       "2  chr1  865000  870000    chr1     860260    879955      SAMD11   \n",
       "3  chr1  870000  875000    chr1     860260    879955      SAMD11   \n",
       "4  chr1  875000  880000    chr1     860260    879955      SAMD11   \n",
       "\n",
       "          anchor_name  \n",
       "0  chr1_860000_865000  \n",
       "1  chr1_860000_865000  \n",
       "2  chr1_865000_870000  \n",
       "3  chr1_870000_875000  \n",
       "4  chr1_875000_880000  "
      ]
     },
     "execution_count": 28,
     "metadata": {},
     "output_type": "execute_result"
    }
   ],
   "source": [
    "anchors_overlapping_gene_df[:5]"
   ]
  },
  {
   "cell_type": "markdown",
   "metadata": {},
   "source": [
    "## 2C . common loops annotated with genes\n",
    "\n",
    "#### all tissues"
   ]
  },
  {
   "cell_type": "code",
   "execution_count": 29,
   "metadata": {},
   "outputs": [
    {
     "data": {
      "text/plain": [
       "(41329, 2)"
      ]
     },
     "execution_count": 29,
     "metadata": {},
     "output_type": "execute_result"
    }
   ],
   "source": [
    "common_loops_df = pd.Series(loop_counts[loop_counts.num_tissues==(loop_counts.shape[1]-1)].index).str.split('::', expand=True)\n",
    "common_loops_df.columns = ['source', 'target']\n",
    "common_loops_df.shape"
   ]
  },
  {
   "cell_type": "code",
   "execution_count": 30,
   "metadata": {},
   "outputs": [
    {
     "name": "stdout",
     "output_type": "stream",
     "text": [
      "(37987, 2)\n",
      "(24207, 2)\n",
      "9584\n"
     ]
    }
   ],
   "source": [
    "common_loop_anchors_df = pd.DataFrame({'anchor_name':common_loops_df.stack().reset_index(drop=True).drop_duplicates()})\n",
    "common_loop_anchors_df = common_loop_anchors_df.merge(anchors_overlapping_gene_df[['anchor_name', 'gene']], how='left',on='anchor_name')\n",
    "print(common_loop_anchors_df.shape)\n",
    "common_loop_anchors_df= common_loop_anchors_df.dropna()\n",
    "print(common_loop_anchors_df.shape)\n",
    "common_loop_genes = sorted(common_loop_anchors_df.gene.unique())\n",
    "print(len(common_loop_genes))\n",
    "common_loop_genes_file = os.path.join(save_dir, 'common_loop_genes.txt')\n",
    "with open(common_loop_genes_file, 'w') as f:\n",
    "    for gene in common_loop_genes:\n",
    "        f.write(gene + '\\n')"
   ]
  },
  {
   "cell_type": "markdown",
   "metadata": {},
   "source": [
    "#### normal"
   ]
  },
  {
   "cell_type": "code",
   "execution_count": 31,
   "metadata": {},
   "outputs": [
    {
     "data": {
      "text/plain": [
       "(41329, 2)"
      ]
     },
     "execution_count": 31,
     "metadata": {},
     "output_type": "execute_result"
    }
   ],
   "source": [
    "common_loops_df_normal = pd.Series(loop_counts_normal[loop_counts_normal.num_tissues==(loop_counts_normal.shape[1]-1)].index).str.split('::', expand=True)\n",
    "common_loops_df_normal.columns = ['source', 'target']\n",
    "common_loops_df_normal.shape"
   ]
  },
  {
   "cell_type": "code",
   "execution_count": 32,
   "metadata": {},
   "outputs": [
    {
     "name": "stdout",
     "output_type": "stream",
     "text": [
      "(37987, 2)\n",
      "(24207, 2)\n",
      "9584\n"
     ]
    }
   ],
   "source": [
    "common_loop_anchors_normal_df = pd.DataFrame({'anchor_name':common_loops_df_normal.stack().reset_index(drop=True).drop_duplicates()})\n",
    "common_loop_anchors_normal_df = common_loop_anchors_normal_df.merge(anchors_overlapping_gene_df[['anchor_name', 'gene']], how='left',on='anchor_name')\n",
    "print(common_loop_anchors_normal_df.shape)\n",
    "common_loop_anchors_normal_df= common_loop_anchors_normal_df.dropna()\n",
    "print(common_loop_anchors_normal_df.shape)\n",
    "common_loop_normal_genes = sorted(common_loop_anchors_normal_df.gene.unique())\n",
    "print(len(common_loop_normal_genes))\n",
    "common_loop_normal_genes_file = os.path.join(save_dir, 'common_loop_normal_genes.txt')\n",
    "with open(common_loop_normal_genes_file, 'w') as f:\n",
    "    for gene in common_loop_normal_genes:\n",
    "        f.write(gene + '\\n')"
   ]
  },
  {
   "cell_type": "markdown",
   "metadata": {},
   "source": [
    "# 3. get per tissue information on anchors\n",
    "- % PP\t: \n",
    "- % P-PIR\t: PIR = not accessible\n",
    "- % PIR-PIR\n",
    "- % ACCESSIBLE\n",
    "- % P-P+ ACC\n",
    "- % EP + ACC\n",
    "- % EE + ACC\n",
    "- TOTAL %\n",
    "\n",
    "Promoter/Enhancer Annotations of HiChIP Loops\n",
    "Promoters were defined as 1 kb regions centered at the TSS, and enhancers\n",
    "were identified as chromHMM enhancers not overlapping with promoters in any\n",
    "cell type. We annotated loop anchors as ‘other’ if the anchor did not contain a\n",
    "promoter or enhancer as defined above\n",
    "\n",
    "\n",
    "we define: i modified our stuff\n",
    "P-P (don't care about accessibility here\n",
    "9:22\n",
    "P-E = P-PIRacc (so a promoter region connecting to an accessible region that is not a promoter)\n",
    "9:22\n",
    "E-E = PIRacc-PIRacc\n",
    "\n",
    "Note: our promoter definition is slightly different than what max is our is 2kb upstream, +500 bp downstream\n",
    "\n",
    "\n",
    "05/12/2020 - change, how we get promoter regions, to look at exon regions, 1/2 of exon must overlap with some of the anchor region"
   ]
  },
  {
   "cell_type": "code",
   "execution_count": 33,
   "metadata": {},
   "outputs": [
    {
     "data": {
      "text/plain": [
       "1196293"
      ]
     },
     "execution_count": 33,
     "metadata": {},
     "output_type": "execute_result"
    }
   ],
   "source": [
    "exon_bed = pybedtools.BedTool('../data/external/gencode.v19.exon.bed')\n",
    "len(exon_bed)# 1196293"
   ]
  },
  {
   "cell_type": "code",
   "execution_count": 34,
   "metadata": {},
   "outputs": [
    {
     "name": "stdout",
     "output_type": "stream",
     "text": [
      "Astrocytes\n"
     ]
    },
    {
     "name": "stderr",
     "output_type": "stream",
     "text": [
      "/Users/mguo123/opt/anaconda3/lib/python3.7/site-packages/numpy/lib/arraysetops.py:568: FutureWarning: elementwise comparison failed; returning scalar instead, but in the future will perform elementwise comparison\n",
      "  mask |= (ar1 == a)\n"
     ]
    },
    {
     "name": "stdout",
     "output_type": "stream",
     "text": [
      "H9_D0\n",
      "H9_D10\n",
      "H9_D2\n",
      "H9_D28\n",
      "SLC_D0\n",
      "SLC_D2\n",
      "SL_D0\n",
      "SL_D2\n",
      "CPU times: user 1min 23s, sys: 2.94 s, total: 1min 26s\n",
      "Wall time: 40.2 s\n"
     ]
    }
   ],
   "source": [
    "%%time\n",
    "perc_anchor_accessible_dict = {}\n",
    "\n",
    "for loop_file in sorted(loop_files):\n",
    "    loop_filename = os.path.basename(loop_file)\n",
    "    tissue = loop_filename.split('.')[0]\n",
    "    print(tissue)\n",
    "    loop_df = pd.read_csv(loop_file, index_col=0)\n",
    "    anchor_file = os.path.join(anchor_dir, tissue+'.anchors.csv')\n",
    "    anchor_df = pd.read_csv(anchor_file, index_col=0)\n",
    "    anchor_df = anchor_df[['chr','start','end','anchors','sample']]#[:5]\n",
    "    anchor_bed = pybedtools.BedTool.from_dataframe(anchor_df) #101559\n",
    "\n",
    "    anchor_annon_file = os.path.join(anchor_annon_dir, tissue+'_annon.bed')\n",
    "    if not os.path.exists(anchor_annon_file):\n",
    "        print(tissue, 'not anchor annon file.. skipping')\n",
    "        continue\n",
    "    anchor_annon_df = pd.read_csv(anchor_annon_file, names=['chr', 'start', 'stop', 'name', 'atac_chr', 'atac_start', 'atac_stop'], sep='\\t')\n",
    "    anchor_to_count_dict = anchor_annon_df.groupby('name').name.count().to_dict()\n",
    "    anchors_acc = anchor_to_count_dict.keys()\n",
    "    \n",
    "    \n",
    "    promoter_anchor_file = os.path.join(promoter_annon_dir, 'promoter_'+tissue+'_annon.bed')\n",
    "    if not os.path.exists(promoter_anchor_file):\n",
    "        print(tissue, 'not promoter annon file.. skipping')\n",
    "        continue\n",
    "    promoter_anchor_df = pd.read_csv(promoter_anchor_file, names=['chr', 'start', 'stop', 'tss', 'anchor_chr', 'anchor_start', \n",
    "                                                             'anchor_stop', 'anchor', 'overlap'], sep='\\t')\n",
    "    promoter_anchors = promoter_anchor_df.anchor.unique()\n",
    "#     #### PART ADDED FOR EXOM #####\n",
    "#     anchor_bed_exons = anchor_bed.intersect(exon_bed,wa=True,wb=True,F=.5)# 1/2 of exon must overlap with some of the anchor region\n",
    "#     exon_anchors = anchor_bed_exons.to_dataframe().name.unique()\n",
    "#     promoter_anchors = np.union1d(promoter_anchors,exon_anchors)\n",
    "    \n",
    "#     #####\n",
    "    \n",
    "    anchor_df['is_P'] = anchor_df['anchors'].isin(promoter_anchors)\n",
    "    anchor_df['is_acc'] = anchor_df['anchors'].isin(anchors_acc)\n",
    "    anchor_df['is_Pacc'] = anchor_df['is_P'] & anchor_df['is_acc']\n",
    "    anchor_df['is_PIRacc'] = (~anchor_df['is_P']) & anchor_df['is_acc']\n",
    "    \n",
    "    \n",
    "    loop_df['source_P'] = loop_df.source.isin(promoter_anchors)\n",
    "    loop_df['target_P'] = loop_df.target.isin(promoter_anchors)\n",
    "    \n",
    "    loop_df['source_acc'] = loop_df.source.isin(anchors_acc)\n",
    "    loop_df['target_acc'] = loop_df.target.isin(anchors_acc)   \n",
    "    \n",
    "\n",
    "    loop_df['source_acc_P'] = loop_df['source_acc'] & loop_df['source_P']\n",
    "    loop_df['target_acc_P'] = loop_df['target_acc'] & loop_df['target_P']\n",
    "    loop_df['source_acc_PIR'] = loop_df['source_acc'] & (~loop_df['source_P'])\n",
    "    loop_df['target_acc_PIR'] = loop_df['target_acc'] & (~loop_df['target_P'])\n",
    "    \n",
    "    \n",
    "    loop_df['is_P_P'] = loop_df['source_P'] & loop_df['target_P']\n",
    "    loop_df['is_P_PIR'] = loop_df['source_P'] ^ loop_df['target_P']\n",
    "    loop_df['is_PIR_PIR'] = ~(loop_df['source_P'] | loop_df['target_P'])\n",
    "    \n",
    "    loop_df['both_anchor_acc'] = loop_df['source_acc'] & loop_df['target_acc']\n",
    "    loop_df['one_anchor_acc'] = loop_df['source_acc'] ^ loop_df['target_acc']\n",
    "    loop_df['both_anchor_no_acc'] = ~(loop_df['source_acc'] | loop_df['target_acc'])\n",
    "  \n",
    "    loop_df['is_P_PIRacc'] = loop_df['is_P_PIR'] & (loop_df['source_acc_PIR'] | loop_df['target_acc_PIR']) \n",
    "\n",
    "    \n",
    "    loop_df['is_Pacc_Pacc'] = loop_df['is_P_P']  & loop_df['both_anchor_acc'] \n",
    "    loop_df['is_Pacc_PIRacc'] = loop_df['is_P_PIR']  & loop_df['both_anchor_acc'] \n",
    "    loop_df['is_PIRacc_PIRacc'] = loop_df['is_PIR_PIR'] & loop_df['both_anchor_acc'] \n",
    "    \n",
    "  \n",
    "    ## SUMMATIVE STATS PER TISSUE ##\n",
    "    num_anchor = anchor_df.shape[0]\n",
    "    perc_anchor_accessible = len(anchors_acc)/num_anchor\n",
    "    perc_anchor_P_or_PIRacc = (anchor_df['is_PIRacc'].sum() + len(promoter_anchors))/num_anchor\n",
    "    perc_anchor_promoter = len(promoter_anchors)/num_anchor\n",
    "#     perc_anchor_Pacc = anchor_df['is_Pacc'].sum()/num_anchor\n",
    "#     perc_anchor_PIR = 1 - len(promoter_anchors)/num_anchor\n",
    "    perc_anchor_PIRacc = anchor_df['is_PIRacc'].sum()/num_anchor\n",
    "\n",
    "    num_loop = loop_df.shape[0]\n",
    "    perc_both_anchor_acc = loop_df['both_anchor_acc'].sum()/num_loop\n",
    "    perc_one_anchor_acc = loop_df['one_anchor_acc'].sum()/num_loop\n",
    "\n",
    "    perc_is_P_P = loop_df['is_P_P'].sum()/num_loop\n",
    "    perc_is_P_PIR = loop_df['is_P_PIR'].sum()/num_loop\n",
    "    perc_is_PIR_PIR = loop_df['is_PIR_PIR'].sum()/num_loop\n",
    "    perc_is_P_PIRacc = loop_df['is_P_PIRacc'].sum()/num_loop\n",
    "    perc_is_PIRacc_PIRacc = loop_df['is_PIRacc_PIRacc'].sum()/num_loop\n",
    "    \n",
    "    \n",
    "    ### modification\n",
    "    num_loops_considered = loop_df['is_P_P'].sum()+loop_df['is_P_PIRacc'].sum()+loop_df['is_PIRacc_PIRacc'].sum()\n",
    "    perc_is_P_P_adj = loop_df['is_P_P'].sum()/num_loops_considered\n",
    "    perc_is_P_PIRacc_adj = loop_df['is_P_PIRacc'].sum()/num_loops_considered\n",
    "    perc_is_PIRacc_PIRacc_adj = loop_df['is_PIRacc_PIRacc'].sum()/num_loops_considered\n",
    "     \n",
    "#     num_both_anchor_acc = loop_df['both_anchor_acc'].sum()\n",
    "#     perc_is_Pacc_Pacc_of_both_acc = loop_df['is_Pacc_Pacc'].sum()/num_both_anchor_acc\n",
    "#     perc_is_Pacc_PIRacc_of_both_acc = loop_df['is_Pacc_PIRacc'].sum()/num_both_anchor_acc\n",
    "#     perc_is_PIRacc_PIRacc_of_both_acc = loop_df['is_PIRacc_PIRacc'].sum()/num_both_anchor_acc\n",
    "    \n",
    "    perc_anchor_accessible_dict[tissue] = {'num_anchor':num_anchor,\n",
    "                                           'perc_anchor_P_or_PIRacc':perc_anchor_P_or_PIRacc,\n",
    "                                           'perc_anchor_accessible':perc_anchor_accessible,\n",
    "                                           'perc_anchor_promoter':perc_anchor_promoter,\n",
    "#                                            'perc_anchor_Pacc':perc_anchor_Pacc,\n",
    "#                                            'perc_anchor_PIR':perc_anchor_PIR,\n",
    "                                           'perc_anchor_PIRacc':perc_anchor_PIRacc,\n",
    "                                           'empty1':'',\n",
    "                                           \n",
    "                                           'num_loop':num_loop, \n",
    "                                           'perc_both_anchor_acc':perc_both_anchor_acc,\n",
    "                                           'perc_one_anchor_acc':perc_one_anchor_acc,\n",
    "                                           'perc_is_P_P':perc_is_P_P,\n",
    "                                           'perc_is_P_PIR':perc_is_P_PIR,\n",
    "                                           'perc_is_PIR_PIR':perc_is_PIR_PIR,\n",
    "                                           'perc_is_P_PIRacc':perc_is_P_PIRacc,\n",
    "                                           'perc_is_PIRacc_PIRacc':perc_is_PIRacc_PIRacc  ,\n",
    "                                           'empty2':'',\n",
    "                                           \n",
    "                                           'num_loops_considered':num_loops_considered,\n",
    "                                           'perc_is_P_P_adj':perc_is_P_P_adj,\n",
    "                                           'perc_is_P_PIRacc_adj':perc_is_P_PIRacc_adj,\n",
    "                                           'perc_is_PIR_PIRacc_adj':perc_is_PIRacc_PIRacc_adj,\n",
    "                                           \n",
    "    }\n",
    "    \n",
    "\n"
   ]
  },
  {
   "cell_type": "code",
   "execution_count": 35,
   "metadata": {},
   "outputs": [],
   "source": [
    "perc_anchor_accessible_df = pd.DataFrame.from_dict(perc_anchor_accessible_dict,orient='index')\n",
    "perc_anchor_accessible_df.to_csv(os.path.join(save_dir, 'perc_anchor_accessible_df_updated.csv'))\n",
    "perc_anchor_accessible_normal_df = perc_anchor_accessible_df[perc_anchor_accessible_df.index.isin(normal_tissues)]\n",
    "perc_anchor_accessible_normal_df.to_csv(os.path.join(save_dir, 'perc_anchor_accessible_normal_df_updated.csv'))\n"
   ]
  },
  {
   "cell_type": "code",
   "execution_count": 36,
   "metadata": {},
   "outputs": [
    {
     "data": {
      "text/html": [
       "<div>\n",
       "<style scoped>\n",
       "    .dataframe tbody tr th:only-of-type {\n",
       "        vertical-align: middle;\n",
       "    }\n",
       "\n",
       "    .dataframe tbody tr th {\n",
       "        vertical-align: top;\n",
       "    }\n",
       "\n",
       "    .dataframe thead th {\n",
       "        text-align: right;\n",
       "    }\n",
       "</style>\n",
       "<table border=\"1\" class=\"dataframe\">\n",
       "  <thead>\n",
       "    <tr style=\"text-align: right;\">\n",
       "      <th></th>\n",
       "      <th>num_anchor</th>\n",
       "      <th>perc_anchor_P_or_PIRacc</th>\n",
       "      <th>perc_anchor_accessible</th>\n",
       "      <th>perc_anchor_promoter</th>\n",
       "      <th>perc_anchor_PIRacc</th>\n",
       "      <th>empty1</th>\n",
       "      <th>num_loop</th>\n",
       "      <th>perc_both_anchor_acc</th>\n",
       "      <th>perc_one_anchor_acc</th>\n",
       "      <th>perc_is_P_P</th>\n",
       "      <th>perc_is_P_PIR</th>\n",
       "      <th>perc_is_PIR_PIR</th>\n",
       "      <th>perc_is_P_PIRacc</th>\n",
       "      <th>perc_is_PIRacc_PIRacc</th>\n",
       "      <th>empty2</th>\n",
       "      <th>num_loops_considered</th>\n",
       "      <th>perc_is_P_P_adj</th>\n",
       "      <th>perc_is_P_PIRacc_adj</th>\n",
       "      <th>perc_is_PIR_PIRacc_adj</th>\n",
       "    </tr>\n",
       "  </thead>\n",
       "  <tbody>\n",
       "    <tr>\n",
       "      <td>Astrocytes</td>\n",
       "      <td>322550</td>\n",
       "      <td>0.147146</td>\n",
       "      <td>0.050460</td>\n",
       "      <td>0.106678</td>\n",
       "      <td>0.040468</td>\n",
       "      <td></td>\n",
       "      <td>1839205</td>\n",
       "      <td>0.015882</td>\n",
       "      <td>0.179444</td>\n",
       "      <td>0.125717</td>\n",
       "      <td>0.874283</td>\n",
       "      <td>0.0</td>\n",
       "      <td>0.084548</td>\n",
       "      <td>0.0</td>\n",
       "      <td></td>\n",
       "      <td>386721</td>\n",
       "      <td>0.597899</td>\n",
       "      <td>0.402101</td>\n",
       "      <td>0.0</td>\n",
       "    </tr>\n",
       "    <tr>\n",
       "      <td>H9_D0</td>\n",
       "      <td>306851</td>\n",
       "      <td>0.205960</td>\n",
       "      <td>0.110480</td>\n",
       "      <td>0.114297</td>\n",
       "      <td>0.091663</td>\n",
       "      <td></td>\n",
       "      <td>1318716</td>\n",
       "      <td>0.034560</td>\n",
       "      <td>0.265318</td>\n",
       "      <td>0.141899</td>\n",
       "      <td>0.858101</td>\n",
       "      <td>0.0</td>\n",
       "      <td>0.131234</td>\n",
       "      <td>0.0</td>\n",
       "      <td></td>\n",
       "      <td>360185</td>\n",
       "      <td>0.519525</td>\n",
       "      <td>0.480475</td>\n",
       "      <td>0.0</td>\n",
       "    </tr>\n",
       "    <tr>\n",
       "      <td>H9_D10</td>\n",
       "      <td>230431</td>\n",
       "      <td>0.204998</td>\n",
       "      <td>0.085327</td>\n",
       "      <td>0.136297</td>\n",
       "      <td>0.068702</td>\n",
       "      <td></td>\n",
       "      <td>712533</td>\n",
       "      <td>0.030627</td>\n",
       "      <td>0.234692</td>\n",
       "      <td>0.154784</td>\n",
       "      <td>0.845216</td>\n",
       "      <td>0.0</td>\n",
       "      <td>0.119785</td>\n",
       "      <td>0.0</td>\n",
       "      <td></td>\n",
       "      <td>195640</td>\n",
       "      <td>0.563734</td>\n",
       "      <td>0.436266</td>\n",
       "      <td>0.0</td>\n",
       "    </tr>\n",
       "    <tr>\n",
       "      <td>H9_D2</td>\n",
       "      <td>461684</td>\n",
       "      <td>0.180333</td>\n",
       "      <td>0.103941</td>\n",
       "      <td>0.088992</td>\n",
       "      <td>0.091342</td>\n",
       "      <td></td>\n",
       "      <td>6720106</td>\n",
       "      <td>0.017614</td>\n",
       "      <td>0.213867</td>\n",
       "      <td>0.108636</td>\n",
       "      <td>0.891364</td>\n",
       "      <td>0.0</td>\n",
       "      <td>0.103185</td>\n",
       "      <td>0.0</td>\n",
       "      <td></td>\n",
       "      <td>1423457</td>\n",
       "      <td>0.512867</td>\n",
       "      <td>0.487133</td>\n",
       "      <td>0.0</td>\n",
       "    </tr>\n",
       "    <tr>\n",
       "      <td>H9_D28</td>\n",
       "      <td>345113</td>\n",
       "      <td>0.161860</td>\n",
       "      <td>0.044913</td>\n",
       "      <td>0.126411</td>\n",
       "      <td>0.035449</td>\n",
       "      <td></td>\n",
       "      <td>1256959</td>\n",
       "      <td>0.009152</td>\n",
       "      <td>0.130480</td>\n",
       "      <td>0.137398</td>\n",
       "      <td>0.862602</td>\n",
       "      <td>0.0</td>\n",
       "      <td>0.060738</td>\n",
       "      <td>0.0</td>\n",
       "      <td></td>\n",
       "      <td>249049</td>\n",
       "      <td>0.693454</td>\n",
       "      <td>0.306546</td>\n",
       "      <td>0.0</td>\n",
       "    </tr>\n",
       "    <tr>\n",
       "      <td>SLC_D0</td>\n",
       "      <td>348166</td>\n",
       "      <td>0.225967</td>\n",
       "      <td>0.140669</td>\n",
       "      <td>0.106392</td>\n",
       "      <td>0.119575</td>\n",
       "      <td></td>\n",
       "      <td>2659082</td>\n",
       "      <td>0.055946</td>\n",
       "      <td>0.328058</td>\n",
       "      <td>0.138145</td>\n",
       "      <td>0.861855</td>\n",
       "      <td>0.0</td>\n",
       "      <td>0.177202</td>\n",
       "      <td>0.0</td>\n",
       "      <td></td>\n",
       "      <td>838532</td>\n",
       "      <td>0.438073</td>\n",
       "      <td>0.561927</td>\n",
       "      <td>0.0</td>\n",
       "    </tr>\n",
       "    <tr>\n",
       "      <td>SLC_D2</td>\n",
       "      <td>438625</td>\n",
       "      <td>0.213757</td>\n",
       "      <td>0.140115</td>\n",
       "      <td>0.090955</td>\n",
       "      <td>0.122802</td>\n",
       "      <td></td>\n",
       "      <td>4282155</td>\n",
       "      <td>0.037083</td>\n",
       "      <td>0.277877</td>\n",
       "      <td>0.110521</td>\n",
       "      <td>0.889479</td>\n",
       "      <td>0.0</td>\n",
       "      <td>0.151784</td>\n",
       "      <td>0.0</td>\n",
       "      <td></td>\n",
       "      <td>1123231</td>\n",
       "      <td>0.421344</td>\n",
       "      <td>0.578656</td>\n",
       "      <td>0.0</td>\n",
       "    </tr>\n",
       "    <tr>\n",
       "      <td>SL_D0</td>\n",
       "      <td>297076</td>\n",
       "      <td>0.235781</td>\n",
       "      <td>0.142388</td>\n",
       "      <td>0.115492</td>\n",
       "      <td>0.120289</td>\n",
       "      <td></td>\n",
       "      <td>1187599</td>\n",
       "      <td>0.052260</td>\n",
       "      <td>0.314103</td>\n",
       "      <td>0.140711</td>\n",
       "      <td>0.859289</td>\n",
       "      <td>0.0</td>\n",
       "      <td>0.171048</td>\n",
       "      <td>0.0</td>\n",
       "      <td></td>\n",
       "      <td>370245</td>\n",
       "      <td>0.451344</td>\n",
       "      <td>0.548656</td>\n",
       "      <td>0.0</td>\n",
       "    </tr>\n",
       "    <tr>\n",
       "      <td>SL_D2</td>\n",
       "      <td>460761</td>\n",
       "      <td>0.189020</td>\n",
       "      <td>0.114793</td>\n",
       "      <td>0.088951</td>\n",
       "      <td>0.100069</td>\n",
       "      <td></td>\n",
       "      <td>5324429</td>\n",
       "      <td>0.024244</td>\n",
       "      <td>0.236247</td>\n",
       "      <td>0.106397</td>\n",
       "      <td>0.893603</td>\n",
       "      <td>0.0</td>\n",
       "      <td>0.120768</td>\n",
       "      <td>0.0</td>\n",
       "      <td></td>\n",
       "      <td>1209523</td>\n",
       "      <td>0.468368</td>\n",
       "      <td>0.531632</td>\n",
       "      <td>0.0</td>\n",
       "    </tr>\n",
       "  </tbody>\n",
       "</table>\n",
       "</div>"
      ],
      "text/plain": [
       "            num_anchor  perc_anchor_P_or_PIRacc  perc_anchor_accessible  \\\n",
       "Astrocytes      322550                 0.147146                0.050460   \n",
       "H9_D0           306851                 0.205960                0.110480   \n",
       "H9_D10          230431                 0.204998                0.085327   \n",
       "H9_D2           461684                 0.180333                0.103941   \n",
       "H9_D28          345113                 0.161860                0.044913   \n",
       "SLC_D0          348166                 0.225967                0.140669   \n",
       "SLC_D2          438625                 0.213757                0.140115   \n",
       "SL_D0           297076                 0.235781                0.142388   \n",
       "SL_D2           460761                 0.189020                0.114793   \n",
       "\n",
       "            perc_anchor_promoter  perc_anchor_PIRacc empty1  num_loop  \\\n",
       "Astrocytes              0.106678            0.040468          1839205   \n",
       "H9_D0                   0.114297            0.091663          1318716   \n",
       "H9_D10                  0.136297            0.068702           712533   \n",
       "H9_D2                   0.088992            0.091342          6720106   \n",
       "H9_D28                  0.126411            0.035449          1256959   \n",
       "SLC_D0                  0.106392            0.119575          2659082   \n",
       "SLC_D2                  0.090955            0.122802          4282155   \n",
       "SL_D0                   0.115492            0.120289          1187599   \n",
       "SL_D2                   0.088951            0.100069          5324429   \n",
       "\n",
       "            perc_both_anchor_acc  perc_one_anchor_acc  perc_is_P_P  \\\n",
       "Astrocytes              0.015882             0.179444     0.125717   \n",
       "H9_D0                   0.034560             0.265318     0.141899   \n",
       "H9_D10                  0.030627             0.234692     0.154784   \n",
       "H9_D2                   0.017614             0.213867     0.108636   \n",
       "H9_D28                  0.009152             0.130480     0.137398   \n",
       "SLC_D0                  0.055946             0.328058     0.138145   \n",
       "SLC_D2                  0.037083             0.277877     0.110521   \n",
       "SL_D0                   0.052260             0.314103     0.140711   \n",
       "SL_D2                   0.024244             0.236247     0.106397   \n",
       "\n",
       "            perc_is_P_PIR  perc_is_PIR_PIR  perc_is_P_PIRacc  \\\n",
       "Astrocytes       0.874283              0.0          0.084548   \n",
       "H9_D0            0.858101              0.0          0.131234   \n",
       "H9_D10           0.845216              0.0          0.119785   \n",
       "H9_D2            0.891364              0.0          0.103185   \n",
       "H9_D28           0.862602              0.0          0.060738   \n",
       "SLC_D0           0.861855              0.0          0.177202   \n",
       "SLC_D2           0.889479              0.0          0.151784   \n",
       "SL_D0            0.859289              0.0          0.171048   \n",
       "SL_D2            0.893603              0.0          0.120768   \n",
       "\n",
       "            perc_is_PIRacc_PIRacc empty2  num_loops_considered  \\\n",
       "Astrocytes                    0.0                       386721   \n",
       "H9_D0                         0.0                       360185   \n",
       "H9_D10                        0.0                       195640   \n",
       "H9_D2                         0.0                      1423457   \n",
       "H9_D28                        0.0                       249049   \n",
       "SLC_D0                        0.0                       838532   \n",
       "SLC_D2                        0.0                      1123231   \n",
       "SL_D0                         0.0                       370245   \n",
       "SL_D2                         0.0                      1209523   \n",
       "\n",
       "            perc_is_P_P_adj  perc_is_P_PIRacc_adj  perc_is_PIR_PIRacc_adj  \n",
       "Astrocytes         0.597899              0.402101                     0.0  \n",
       "H9_D0              0.519525              0.480475                     0.0  \n",
       "H9_D10             0.563734              0.436266                     0.0  \n",
       "H9_D2              0.512867              0.487133                     0.0  \n",
       "H9_D28             0.693454              0.306546                     0.0  \n",
       "SLC_D0             0.438073              0.561927                     0.0  \n",
       "SLC_D2             0.421344              0.578656                     0.0  \n",
       "SL_D0              0.451344              0.548656                     0.0  \n",
       "SL_D2              0.468368              0.531632                     0.0  "
      ]
     },
     "execution_count": 36,
     "metadata": {},
     "output_type": "execute_result"
    }
   ],
   "source": [
    "perc_anchor_accessible_df"
   ]
  },
  {
   "cell_type": "code",
   "execution_count": 39,
   "metadata": {},
   "outputs": [
    {
     "name": "stdout",
     "output_type": "stream",
     "text": [
      "0.12935646733007433 0.8706435326699258 0.0\n"
     ]
    }
   ],
   "source": [
    "print(perc_anchor_accessible_df.perc_is_P_P.mean(),\n",
    "      perc_anchor_accessible_df.perc_is_P_PIR.mean(),\n",
    "      perc_anchor_accessible_df.perc_is_PIR_PIR.mean())"
   ]
  },
  {
   "cell_type": "code",
   "execution_count": 40,
   "metadata": {},
   "outputs": [
    {
     "name": "stdout",
     "output_type": "stream",
     "text": [
      "0.518512021120676 0.48148797887932404 0.0\n"
     ]
    }
   ],
   "source": [
    "print(perc_anchor_accessible_df.perc_is_P_P_adj\t.mean(),\n",
    "      perc_anchor_accessible_df.perc_is_P_PIRacc_adj.mean(),\n",
    "      perc_anchor_accessible_df.perc_is_PIR_PIRacc_adj.mean())"
   ]
  },
  {
   "cell_type": "markdown",
   "metadata": {},
   "source": [
    "means across the board: P-P 51.9%, E-P 48.1%, E-E 0%, where P = (in promoter region OR >1/2 exon region overlaps with anchor region) AND accessible, and E = not in promoter/exon regions AND accessible (edited) \n",
    "6:38\n",
    "namyoung said: E-E, HiChIP, 40%,  E-P 40%, P-P% 20%\n",
    "6:38\n",
    "rip\n",
    "6:40\n",
    "if you don't care about accessibility: percentages are\n",
    "P-P: 30.3%, P-PIR: 42.0%, PIR-PIR: 27.%"
   ]
  },
  {
   "cell_type": "markdown",
   "metadata": {},
   "source": [
    "Maxs paper\"Promoter/Enhancer Annotations of HiChIP Loops Promoters were defined as 1 kb regions centered at the TSS, and enhancers were identified as chromHMM enhancers not overlapping with promoters in any cell type. We annotated loop anchors as ‘other’ if the anchor did not contain a promoter or enhancer as defined above.\"\\"
   ]
  },
  {
   "cell_type": "markdown",
   "metadata": {},
   "source": [
    "## 3B:  replicate Song 4C, figure out \n",
    "\n",
    "figure out counts for the types as outlined by Song, et al fig 4b/c ish \n",
    "Types (enhancer = has atac region)\n",
    "- I. Enhancer interacts with distal gene(s) only  \n",
    "- II. Enhancer interacts with nearest and distal gene(s)  \n",
    "- III. Enhancer interacts with nearest gene only \n",
    "- IV. Enhancer cannot be resolved for interactions with nearest gene\n",
    "\n",
    "calculate for loops that are P-PIRacc and for Pacc-PIRacc\n"
   ]
  },
  {
   "cell_type": "code",
   "execution_count": 43,
   "metadata": {},
   "outputs": [
    {
     "name": "stderr",
     "output_type": "stream",
     "text": [
      "/Users/mguo123/opt/anaconda3/lib/python3.7/site-packages/ipykernel_launcher.py:2: SettingWithCopyWarning: \n",
      "A value is trying to be set on a copy of a slice from a DataFrame.\n",
      "Try using .loc[row_indexer,col_indexer] = value instead\n",
      "\n",
      "See the caveats in the documentation: http://pandas.pydata.org/pandas-docs/stable/user_guide/indexing.html#returning-a-view-versus-a-copy\n",
      "  \n"
     ]
    },
    {
     "data": {
      "text/plain": [
       "count         9.000000\n",
       "mean     350109.555556\n",
       "std      260790.287280\n",
       "min       76345.000000\n",
       "25%      155501.000000\n",
       "50%      203137.000000\n",
       "75%      643021.000000\n",
       "max      693413.000000\n",
       "Name: num_is_P_PIRacc, dtype: float64"
      ]
     },
     "execution_count": 43,
     "metadata": {},
     "output_type": "execute_result"
    }
   ],
   "source": [
    "numbers_P_PIRacc = perc_anchor_accessible_df[['num_loop','perc_is_P_PIRacc']]\n",
    "numbers_P_PIRacc['num_is_P_PIRacc'] = (numbers_P_PIRacc.num_loop * numbers_P_PIRacc.perc_is_P_PIRacc).map(int)\n",
    "numbers_P_PIRacc.num_is_P_PIRacc.describe()"
   ]
  },
  {
   "cell_type": "code",
   "execution_count": 44,
   "metadata": {},
   "outputs": [
    {
     "data": {
      "text/plain": [
       "<matplotlib.axes._subplots.AxesSubplot at 0x7fc92e5532d0>"
      ]
     },
     "execution_count": 44,
     "metadata": {},
     "output_type": "execute_result"
    },
    {
     "data": {
      "image/png": "[encoded data removed]",
      "text/plain": [
       "<Figure size 432x576 with 1 Axes>"
      ]
     },
     "metadata": {
      "needs_background": "light"
     },
     "output_type": "display_data"
    }
   ],
   "source": [
    "fig = plt.figure(figsize=(6, 8))\n",
    "sns.stripplot(y = numbers_P_PIRacc.sort_values('perc_is_P_PIRacc').index, x= numbers_P_PIRacc.sort_values('perc_is_P_PIRacc').perc_is_P_PIRacc)"
   ]
  },
  {
   "cell_type": "code",
   "execution_count": 45,
   "metadata": {},
   "outputs": [
    {
     "data": {
      "text/plain": [
       "<matplotlib.axes._subplots.AxesSubplot at 0x7fc7dcfa7550>"
      ]
     },
     "execution_count": 45,
     "metadata": {},
     "output_type": "execute_result"
    },
    {
     "data": {
      "image/png": "[encoded data removed]",
      "text/plain": [
       "<Figure size 432x576 with 1 Axes>"
      ]
     },
     "metadata": {
      "needs_background": "light"
     },
     "output_type": "display_data"
    }
   ],
   "source": [
    "fig = plt.figure(figsize=(6, 8))\n",
    "sns.stripplot(y = numbers_P_PIRacc.sort_values('num_is_P_PIRacc').index, x= numbers_P_PIRacc.sort_values('num_is_P_PIRacc').num_is_P_PIRacc)"
   ]
  },
  {
   "cell_type": "code",
   "execution_count": 46,
   "metadata": {},
   "outputs": [
    {
     "name": "stdout",
     "output_type": "stream",
     "text": [
      "Astrocytes\n"
     ]
    },
    {
     "name": "stderr",
     "output_type": "stream",
     "text": [
      "/Users/mguo123/opt/anaconda3/lib/python3.7/site-packages/ipykernel_launcher.py:46: SettingWithCopyWarning: \n",
      "A value is trying to be set on a copy of a slice from a DataFrame.\n",
      "Try using .loc[row_indexer,col_indexer] = value instead\n",
      "\n",
      "See the caveats in the documentation: http://pandas.pydata.org/pandas-docs/stable/user_guide/indexing.html#returning-a-view-versus-a-copy\n",
      "/Users/mguo123/opt/anaconda3/lib/python3.7/site-packages/ipykernel_launcher.py:47: SettingWithCopyWarning: \n",
      "A value is trying to be set on a copy of a slice from a DataFrame.\n",
      "Try using .loc[row_indexer,col_indexer] = value instead\n",
      "\n",
      "See the caveats in the documentation: http://pandas.pydata.org/pandas-docs/stable/user_guide/indexing.html#returning-a-view-versus-a-copy\n"
     ]
    },
    {
     "name": "stdout",
     "output_type": "stream",
     "text": [
      "H9_D0\n",
      "H9_D10\n",
      "H9_D2\n",
      "H9_D28\n",
      "SLC_D0\n",
      "SLC_D2\n",
      "SL_D0\n",
      "SL_D2\n",
      "CPU times: user 4min 35s, sys: 2.46 s, total: 4min 38s\n",
      "Wall time: 3min 30s\n"
     ]
    }
   ],
   "source": [
    "%%time\n",
    "P_PIR_gene_classification={}\n",
    "for loop_file in sorted(loop_files):\n",
    "    loop_filename = os.path.basename(loop_file)\n",
    "    tissue = loop_filename.split('.')[0]\n",
    "    print(tissue)\n",
    "    \n",
    "    # read loop/anchor files\n",
    "    loop_df = pd.read_csv(loop_file, index_col=0)\n",
    "    anchor_file = os.path.join(anchor_dir, tissue+'.anchors.csv')\n",
    "    anchor_df = pd.read_csv(anchor_file, index_col=0)\n",
    "    \n",
    "    # read anchor atac annotation\n",
    "    anchor_annon_file = os.path.join(anchor_annon_dir, tissue+'_annon.bed')\n",
    "    if not os.path.exists(anchor_annon_file):\n",
    "        print(tissue, 'not anchor annon file.. skipping')\n",
    "        continue\n",
    "    anchor_annon_df = pd.read_csv(anchor_annon_file, names=['chr', 'start', 'stop', 'name', 'atac_chr', 'atac_start', 'atac_stop'], sep='\\t')\n",
    "    anchor_to_count_dict = anchor_annon_df.groupby('name').name.count().to_dict()\n",
    "    anchors_acc = anchor_to_count_dict.keys()\n",
    "    \n",
    "    # read anchor tss annotation\n",
    "    promoter_anchor_file = os.path.join(promoter_annon_dir, 'promoter_'+tissue+'_annon.bed')\n",
    "    if not os.path.exists(promoter_anchor_file):\n",
    "        print(tissue, 'not promoter annon file.. skipping')\n",
    "        continue\n",
    "    promoter_anchor_df = pd.read_csv(promoter_anchor_file, names=['chr', 'start', 'stop', 'tss', 'anchor_chr', 'anchor_start', \n",
    "                                                             'anchor_stop', 'anchor', 'overlap'], sep='\\t')\n",
    "    promoter_anchors = promoter_anchor_df.anchor.unique()\n",
    "\n",
    "    \n",
    "    loop_df['source_P'] = loop_df.source.isin(promoter_anchors)\n",
    "    loop_df['target_P'] = loop_df.target.isin(promoter_anchors)\n",
    "    \n",
    "    loop_df['source_acc'] = loop_df.source.isin(anchors_acc)\n",
    "    loop_df['target_acc'] = loop_df.target.isin(anchors_acc)   \n",
    "\n",
    "    loop_df['source_acc_PIR'] = loop_df['source_acc'] & (~loop_df['source_P'])\n",
    "    loop_df['target_acc_PIR'] = loop_df['target_acc'] & (~loop_df['target_P'])\n",
    "    \n",
    "    loop_df['is_P_PIR'] = loop_df['source_P'] ^ loop_df['target_P']    \n",
    "    loop_df['is_P_PIRacc'] = loop_df['is_P_PIR'] & (loop_df['source_acc_PIR'] | loop_df['target_acc_PIR']) \n",
    "    loop_df['both_anchor_acc'] = loop_df['source_acc'] & loop_df['target_acc']\n",
    "    loop_df['is_Pacc_PIRacc'] = loop_df['is_P_PIR']  & loop_df['both_anchor_acc'] \n",
    "\n",
    "    loop_df_P_PIRacc = loop_df[loop_df.is_P_PIRacc]\n",
    "    loop_df_P_PIRacc['P_column'] = loop_df_P_PIRacc.apply(lambda x: x.source if x.source_P else x.target,axis=1)\n",
    "    loop_df_P_PIRacc['E_column'] = loop_df_P_PIRacc.apply(lambda x: x.target if x.source_P else x.source,axis=1)\n",
    "    # get the actual loop\n",
    "    loop_df_P_PIRacc = loop_df_P_PIRacc.merge(promoter_anchor_df[['anchor','tss']],how='left',left_on='P_column', right_on='anchor')\n",
    "\n",
    "    # get closest gene to PIRacc\n",
    "    loop_df_P_PIRacc = loop_df_P_PIRacc.merge(anchors_closest_gene_df[['anchor_name', 'gene', 'dist_to_TSS']],how='left',left_on='E_column', right_on='anchor_name')\n",
    "\n",
    "    # renaming colummns\n",
    "    loop_df_P_PIRacc = loop_df_P_PIRacc[['P_column', 'E_column', 'is_Pacc_PIRacc', 'tss', 'gene', 'dist_to_TSS']]\n",
    "    loop_df_P_PIRacc.columns = ['P_column', 'E_column', 'is_Pacc_PIRacc','tss_of_P', 'nearest_gene_to_PIR','dist_to_nearest_gene']\n",
    "\n",
    "    # get distal/nearest classification\n",
    "    loop_df_P_PIRacc['is_nearest_gene'] = loop_df_P_PIRacc.nearest_gene_to_PIR == loop_df_P_PIRacc.tss_of_P\n",
    "\n",
    "    # get numbers for P-PIRacc loops\n",
    "    P_PIRacc_types = loop_df_P_PIRacc.groupby(['E_column','nearest_gene_to_PIR']).agg({'tss_of_P':'::'.join,'P_column':'count'}).reset_index()\n",
    "    P_PIRacc_types['E_loops_to_nearest'] = P_PIRacc_types.apply(lambda x: x.nearest_gene_to_PIR in x.tss_of_P, axis=1)\n",
    "    P_PIRacc_types['type1_distal_only'] = (~P_PIRacc_types.E_loops_to_nearest)\n",
    "    P_PIRacc_types['type2_nearest_distal'] = P_PIRacc_types.E_loops_to_nearest & (P_PIRacc_types.P_column>1)\n",
    "    P_PIRacc_types['type3_nearest_only'] = P_PIRacc_types.E_loops_to_nearest & (P_PIRacc_types.P_column==1)\n",
    "    num_enhancers = len(P_PIRacc_types)\n",
    "    numE_type1_distal_only = len(P_PIRacc_types[P_PIRacc_types.type1_distal_only])\n",
    "    numE_type2_nearest_distal = len(P_PIRacc_types[P_PIRacc_types.type2_nearest_distal])\n",
    "    numE_type3_nearest_only = len(P_PIRacc_types[P_PIRacc_types.type3_nearest_only])    \n",
    "    num_target_genes = P_PIRacc_types.P_column.sum()\n",
    "    numP_type1_distal_only = P_PIRacc_types[P_PIRacc_types.type1_distal_only].P_column.sum()\n",
    "    numP_type2_nearest_distal = P_PIRacc_types[P_PIRacc_types.type2_nearest_distal].P_column.sum()\n",
    "    numP_type3_nearest_only = P_PIRacc_types[P_PIRacc_types.type3_nearest_only].P_column.sum()\n",
    "    \n",
    "\n",
    "    # get numbers for Pacc-PIRacc loops\n",
    "    loop_df_Pacc_PIRacc = loop_df_P_PIRacc[loop_df_P_PIRacc.is_Pacc_PIRacc]\n",
    "    Pacc_PIRacc_types = loop_df_Pacc_PIRacc.groupby(['E_column','nearest_gene_to_PIR']).agg({\n",
    "        'tss_of_P':'::'.join,'P_column':'count',}).reset_index()\n",
    "    Pacc_PIRacc_types['E_loops_to_nearest'] = Pacc_PIRacc_types.apply(lambda x: x.nearest_gene_to_PIR in x.tss_of_P, axis=1)\n",
    "    Pacc_PIRacc_types['type1_distal_only'] = (~Pacc_PIRacc_types.E_loops_to_nearest) \n",
    "    Pacc_PIRacc_types['type2_nearest_distal'] = Pacc_PIRacc_types.E_loops_to_nearest & (Pacc_PIRacc_types.P_column>1)\n",
    "    Pacc_PIRacc_types['type3_nearest_only'] = Pacc_PIRacc_types.E_loops_to_nearest & (Pacc_PIRacc_types.P_column==1)\n",
    "    num_enhancers_Pacc = len(Pacc_PIRacc_types)\n",
    "    numE_type1_distal_only_Pacc = len(Pacc_PIRacc_types[Pacc_PIRacc_types.type1_distal_only])\n",
    "    numE_type2_nearest_distal_Pacc = len(Pacc_PIRacc_types[Pacc_PIRacc_types.type2_nearest_distal])\n",
    "    numE_type3_nearest_only_Pacc = len(Pacc_PIRacc_types[Pacc_PIRacc_types.type3_nearest_only])\n",
    "    num_target_genes_Pacc = Pacc_PIRacc_types.P_column.sum()\n",
    "    numP_type1_distal_only_Pacc = Pacc_PIRacc_types[Pacc_PIRacc_types.type1_distal_only].P_column.sum()\n",
    "    numP_type2_nearest_distal_Pacc = Pacc_PIRacc_types[Pacc_PIRacc_types.type2_nearest_distal].P_column.sum()\n",
    "    numP_type3_nearest_only_Pacc = Pacc_PIRacc_types[Pacc_PIRacc_types.type3_nearest_only].P_column.sum()\n",
    "    \n",
    "    \n",
    "    P_PIR_gene_classification[tissue] = {'num_loops_P_PIRacc':len(loop_df_P_PIRacc),\n",
    "                                         'num_enhancers_in_P_PIRacc':num_enhancers,\n",
    "                                         'numE_type1_distal_only_in_P_PIRacc':numE_type1_distal_only,\n",
    "                                         'numE_type2_nearest_distal_in_P_PIRacc':numE_type2_nearest_distal,\n",
    "                                         'numE_type3_nearest_only_in_P_PIRacc':numE_type3_nearest_only,\n",
    "                                         'num_target_genes_in_P_PIRacc':num_target_genes,\n",
    "                                         'numP_type1_distal_only':numP_type1_distal_only,\n",
    "                                         'numP_type2_nearest_distal':numP_type2_nearest_distal,\n",
    "                                         'numP_type3_nearest_only':numP_type3_nearest_only,\n",
    "                                         \n",
    "                                         'num_loops_Pacc_PIRacc':len(loop_df_Pacc_PIRacc),\n",
    "                                         'num_enhancers_in_Pacc_PIRacc':num_enhancers_Pacc,\n",
    "                                         'numE_type1_distal_only_in_Pacc_PIRacc':numE_type1_distal_only_Pacc,\n",
    "                                         'numE_type2_nearest_distal_in_Pacc_PIRacc':numE_type2_nearest_distal_Pacc,\n",
    "                                         'numE_type3_nearest_only_in_Pacc_PIRacc':numE_type3_nearest_only_Pacc, \n",
    "                                         'num_target_genes_in_Pacc_PIRacc':num_target_genes_Pacc,\n",
    "                                         'numP_type1_distal_only_Pacc':numP_type1_distal_only_Pacc,\n",
    "                                         'numP_type2_nearest_distal_Pacc':numP_type2_nearest_distal_Pacc,\n",
    "                                         'numP_type3_nearest_only_Pacc':numP_type3_nearest_only_Pacc\n",
    "                                           \n",
    "    }   "
   ]
  },
  {
   "cell_type": "code",
   "execution_count": 47,
   "metadata": {},
   "outputs": [
    {
     "data": {
      "text/html": [
       "<div>\n",
       "<style scoped>\n",
       "    .dataframe tbody tr th:only-of-type {\n",
       "        vertical-align: middle;\n",
       "    }\n",
       "\n",
       "    .dataframe tbody tr th {\n",
       "        vertical-align: top;\n",
       "    }\n",
       "\n",
       "    .dataframe thead th {\n",
       "        text-align: right;\n",
       "    }\n",
       "</style>\n",
       "<table border=\"1\" class=\"dataframe\">\n",
       "  <thead>\n",
       "    <tr style=\"text-align: right;\">\n",
       "      <th></th>\n",
       "      <th>num_loops_P_PIRacc</th>\n",
       "      <th>num_enhancers_in_P_PIRacc</th>\n",
       "      <th>numE_type1_distal_only_in_P_PIRacc</th>\n",
       "      <th>numE_type2_nearest_distal_in_P_PIRacc</th>\n",
       "      <th>numE_type3_nearest_only_in_P_PIRacc</th>\n",
       "      <th>num_target_genes_in_P_PIRacc</th>\n",
       "      <th>numP_type1_distal_only</th>\n",
       "      <th>numP_type2_nearest_distal</th>\n",
       "      <th>numP_type3_nearest_only</th>\n",
       "      <th>num_loops_Pacc_PIRacc</th>\n",
       "      <th>num_enhancers_in_Pacc_PIRacc</th>\n",
       "      <th>numE_type1_distal_only_in_Pacc_PIRacc</th>\n",
       "      <th>numE_type2_nearest_distal_in_Pacc_PIRacc</th>\n",
       "      <th>numE_type3_nearest_only_in_Pacc_PIRacc</th>\n",
       "      <th>num_target_genes_in_Pacc_PIRacc</th>\n",
       "      <th>numP_type1_distal_only_Pacc</th>\n",
       "      <th>numP_type2_nearest_distal_Pacc</th>\n",
       "      <th>numP_type3_nearest_only_Pacc</th>\n",
       "    </tr>\n",
       "  </thead>\n",
       "  <tbody>\n",
       "    <tr>\n",
       "      <td>Astrocytes</td>\n",
       "      <td>241235</td>\n",
       "      <td>15137</td>\n",
       "      <td>3188</td>\n",
       "      <td>11866</td>\n",
       "      <td>83</td>\n",
       "      <td>241235</td>\n",
       "      <td>40944</td>\n",
       "      <td>200208</td>\n",
       "      <td>83</td>\n",
       "      <td>37355</td>\n",
       "      <td>8855</td>\n",
       "      <td>7797</td>\n",
       "      <td>866</td>\n",
       "      <td>192</td>\n",
       "      <td>37355</td>\n",
       "      <td>30620</td>\n",
       "      <td>6543</td>\n",
       "      <td>192</td>\n",
       "    </tr>\n",
       "    <tr>\n",
       "      <td>H9_D0</td>\n",
       "      <td>255247</td>\n",
       "      <td>30791</td>\n",
       "      <td>9647</td>\n",
       "      <td>19873</td>\n",
       "      <td>1271</td>\n",
       "      <td>255247</td>\n",
       "      <td>54057</td>\n",
       "      <td>199919</td>\n",
       "      <td>1271</td>\n",
       "      <td>55020</td>\n",
       "      <td>15984</td>\n",
       "      <td>12438</td>\n",
       "      <td>2543</td>\n",
       "      <td>1003</td>\n",
       "      <td>55020</td>\n",
       "      <td>38942</td>\n",
       "      <td>15075</td>\n",
       "      <td>1003</td>\n",
       "    </tr>\n",
       "    <tr>\n",
       "      <td>H9_D10</td>\n",
       "      <td>133816</td>\n",
       "      <td>18146</td>\n",
       "      <td>6292</td>\n",
       "      <td>11013</td>\n",
       "      <td>841</td>\n",
       "      <td>133816</td>\n",
       "      <td>32460</td>\n",
       "      <td>100515</td>\n",
       "      <td>841</td>\n",
       "      <td>27618</td>\n",
       "      <td>8138</td>\n",
       "      <td>6732</td>\n",
       "      <td>1033</td>\n",
       "      <td>373</td>\n",
       "      <td>27618</td>\n",
       "      <td>20830</td>\n",
       "      <td>6415</td>\n",
       "      <td>373</td>\n",
       "    </tr>\n",
       "    <tr>\n",
       "      <td>H9_D2</td>\n",
       "      <td>950434</td>\n",
       "      <td>45106</td>\n",
       "      <td>7522</td>\n",
       "      <td>37039</td>\n",
       "      <td>545</td>\n",
       "      <td>950434</td>\n",
       "      <td>138973</td>\n",
       "      <td>810916</td>\n",
       "      <td>545</td>\n",
       "      <td>143820</td>\n",
       "      <td>32851</td>\n",
       "      <td>27353</td>\n",
       "      <td>4215</td>\n",
       "      <td>1283</td>\n",
       "      <td>143820</td>\n",
       "      <td>113987</td>\n",
       "      <td>28550</td>\n",
       "      <td>1283</td>\n",
       "    </tr>\n",
       "    <tr>\n",
       "      <td>H9_D28</td>\n",
       "      <td>122050</td>\n",
       "      <td>14443</td>\n",
       "      <td>4378</td>\n",
       "      <td>9633</td>\n",
       "      <td>432</td>\n",
       "      <td>122050</td>\n",
       "      <td>26630</td>\n",
       "      <td>94988</td>\n",
       "      <td>432</td>\n",
       "      <td>14646</td>\n",
       "      <td>5156</td>\n",
       "      <td>4377</td>\n",
       "      <td>547</td>\n",
       "      <td>232</td>\n",
       "      <td>14646</td>\n",
       "      <td>11620</td>\n",
       "      <td>2794</td>\n",
       "      <td>232</td>\n",
       "    </tr>\n",
       "    <tr>\n",
       "      <td>SLC_D0</td>\n",
       "      <td>672211</td>\n",
       "      <td>44888</td>\n",
       "      <td>11348</td>\n",
       "      <td>32717</td>\n",
       "      <td>823</td>\n",
       "      <td>672211</td>\n",
       "      <td>111826</td>\n",
       "      <td>559562</td>\n",
       "      <td>823</td>\n",
       "      <td>175823</td>\n",
       "      <td>32067</td>\n",
       "      <td>24833</td>\n",
       "      <td>6066</td>\n",
       "      <td>1168</td>\n",
       "      <td>175823</td>\n",
       "      <td>122225</td>\n",
       "      <td>52430</td>\n",
       "      <td>1168</td>\n",
       "    </tr>\n",
       "    <tr>\n",
       "      <td>SLC_D2</td>\n",
       "      <td>886043</td>\n",
       "      <td>57243</td>\n",
       "      <td>12612</td>\n",
       "      <td>43718</td>\n",
       "      <td>913</td>\n",
       "      <td>886043</td>\n",
       "      <td>145400</td>\n",
       "      <td>739730</td>\n",
       "      <td>913</td>\n",
       "      <td>188033</td>\n",
       "      <td>41116</td>\n",
       "      <td>32180</td>\n",
       "      <td>7095</td>\n",
       "      <td>1841</td>\n",
       "      <td>188033</td>\n",
       "      <td>135294</td>\n",
       "      <td>50898</td>\n",
       "      <td>1841</td>\n",
       "    </tr>\n",
       "    <tr>\n",
       "      <td>SL_D0</td>\n",
       "      <td>292572</td>\n",
       "      <td>38730</td>\n",
       "      <td>13888</td>\n",
       "      <td>23079</td>\n",
       "      <td>1763</td>\n",
       "      <td>292572</td>\n",
       "      <td>72384</td>\n",
       "      <td>218425</td>\n",
       "      <td>1763</td>\n",
       "      <td>74057</td>\n",
       "      <td>21843</td>\n",
       "      <td>16760</td>\n",
       "      <td>3648</td>\n",
       "      <td>1435</td>\n",
       "      <td>74057</td>\n",
       "      <td>51317</td>\n",
       "      <td>21305</td>\n",
       "      <td>1435</td>\n",
       "    </tr>\n",
       "    <tr>\n",
       "      <td>SL_D2</td>\n",
       "      <td>882508</td>\n",
       "      <td>49343</td>\n",
       "      <td>9478</td>\n",
       "      <td>39199</td>\n",
       "      <td>666</td>\n",
       "      <td>882508</td>\n",
       "      <td>141756</td>\n",
       "      <td>740086</td>\n",
       "      <td>666</td>\n",
       "      <td>155846</td>\n",
       "      <td>35160</td>\n",
       "      <td>28626</td>\n",
       "      <td>5103</td>\n",
       "      <td>1431</td>\n",
       "      <td>155846</td>\n",
       "      <td>118428</td>\n",
       "      <td>35987</td>\n",
       "      <td>1431</td>\n",
       "    </tr>\n",
       "  </tbody>\n",
       "</table>\n",
       "</div>"
      ],
      "text/plain": [
       "            num_loops_P_PIRacc  num_enhancers_in_P_PIRacc  \\\n",
       "Astrocytes              241235                      15137   \n",
       "H9_D0                   255247                      30791   \n",
       "H9_D10                  133816                      18146   \n",
       "H9_D2                   950434                      45106   \n",
       "H9_D28                  122050                      14443   \n",
       "SLC_D0                  672211                      44888   \n",
       "SLC_D2                  886043                      57243   \n",
       "SL_D0                   292572                      38730   \n",
       "SL_D2                   882508                      49343   \n",
       "\n",
       "            numE_type1_distal_only_in_P_PIRacc  \\\n",
       "Astrocytes                                3188   \n",
       "H9_D0                                     9647   \n",
       "H9_D10                                    6292   \n",
       "H9_D2                                     7522   \n",
       "H9_D28                                    4378   \n",
       "SLC_D0                                   11348   \n",
       "SLC_D2                                   12612   \n",
       "SL_D0                                    13888   \n",
       "SL_D2                                     9478   \n",
       "\n",
       "            numE_type2_nearest_distal_in_P_PIRacc  \\\n",
       "Astrocytes                                  11866   \n",
       "H9_D0                                       19873   \n",
       "H9_D10                                      11013   \n",
       "H9_D2                                       37039   \n",
       "H9_D28                                       9633   \n",
       "SLC_D0                                      32717   \n",
       "SLC_D2                                      43718   \n",
       "SL_D0                                       23079   \n",
       "SL_D2                                       39199   \n",
       "\n",
       "            numE_type3_nearest_only_in_P_PIRacc  num_target_genes_in_P_PIRacc  \\\n",
       "Astrocytes                                   83                        241235   \n",
       "H9_D0                                      1271                        255247   \n",
       "H9_D10                                      841                        133816   \n",
       "H9_D2                                       545                        950434   \n",
       "H9_D28                                      432                        122050   \n",
       "SLC_D0                                      823                        672211   \n",
       "SLC_D2                                      913                        886043   \n",
       "SL_D0                                      1763                        292572   \n",
       "SL_D2                                       666                        882508   \n",
       "\n",
       "            numP_type1_distal_only  numP_type2_nearest_distal  \\\n",
       "Astrocytes                   40944                     200208   \n",
       "H9_D0                        54057                     199919   \n",
       "H9_D10                       32460                     100515   \n",
       "H9_D2                       138973                     810916   \n",
       "H9_D28                       26630                      94988   \n",
       "SLC_D0                      111826                     559562   \n",
       "SLC_D2                      145400                     739730   \n",
       "SL_D0                        72384                     218425   \n",
       "SL_D2                       141756                     740086   \n",
       "\n",
       "            numP_type3_nearest_only  num_loops_Pacc_PIRacc  \\\n",
       "Astrocytes                       83                  37355   \n",
       "H9_D0                          1271                  55020   \n",
       "H9_D10                          841                  27618   \n",
       "H9_D2                           545                 143820   \n",
       "H9_D28                          432                  14646   \n",
       "SLC_D0                          823                 175823   \n",
       "SLC_D2                          913                 188033   \n",
       "SL_D0                          1763                  74057   \n",
       "SL_D2                           666                 155846   \n",
       "\n",
       "            num_enhancers_in_Pacc_PIRacc  \\\n",
       "Astrocytes                          8855   \n",
       "H9_D0                              15984   \n",
       "H9_D10                              8138   \n",
       "H9_D2                              32851   \n",
       "H9_D28                              5156   \n",
       "SLC_D0                             32067   \n",
       "SLC_D2                             41116   \n",
       "SL_D0                              21843   \n",
       "SL_D2                              35160   \n",
       "\n",
       "            numE_type1_distal_only_in_Pacc_PIRacc  \\\n",
       "Astrocytes                                   7797   \n",
       "H9_D0                                       12438   \n",
       "H9_D10                                       6732   \n",
       "H9_D2                                       27353   \n",
       "H9_D28                                       4377   \n",
       "SLC_D0                                      24833   \n",
       "SLC_D2                                      32180   \n",
       "SL_D0                                       16760   \n",
       "SL_D2                                       28626   \n",
       "\n",
       "            numE_type2_nearest_distal_in_Pacc_PIRacc  \\\n",
       "Astrocytes                                       866   \n",
       "H9_D0                                           2543   \n",
       "H9_D10                                          1033   \n",
       "H9_D2                                           4215   \n",
       "H9_D28                                           547   \n",
       "SLC_D0                                          6066   \n",
       "SLC_D2                                          7095   \n",
       "SL_D0                                           3648   \n",
       "SL_D2                                           5103   \n",
       "\n",
       "            numE_type3_nearest_only_in_Pacc_PIRacc  \\\n",
       "Astrocytes                                     192   \n",
       "H9_D0                                         1003   \n",
       "H9_D10                                         373   \n",
       "H9_D2                                         1283   \n",
       "H9_D28                                         232   \n",
       "SLC_D0                                        1168   \n",
       "SLC_D2                                        1841   \n",
       "SL_D0                                         1435   \n",
       "SL_D2                                         1431   \n",
       "\n",
       "            num_target_genes_in_Pacc_PIRacc  numP_type1_distal_only_Pacc  \\\n",
       "Astrocytes                            37355                        30620   \n",
       "H9_D0                                 55020                        38942   \n",
       "H9_D10                                27618                        20830   \n",
       "H9_D2                                143820                       113987   \n",
       "H9_D28                                14646                        11620   \n",
       "SLC_D0                               175823                       122225   \n",
       "SLC_D2                               188033                       135294   \n",
       "SL_D0                                 74057                        51317   \n",
       "SL_D2                                155846                       118428   \n",
       "\n",
       "            numP_type2_nearest_distal_Pacc  numP_type3_nearest_only_Pacc  \n",
       "Astrocytes                            6543                           192  \n",
       "H9_D0                                15075                          1003  \n",
       "H9_D10                                6415                           373  \n",
       "H9_D2                                28550                          1283  \n",
       "H9_D28                                2794                           232  \n",
       "SLC_D0                               52430                          1168  \n",
       "SLC_D2                               50898                          1841  \n",
       "SL_D0                                21305                          1435  \n",
       "SL_D2                                35987                          1431  "
      ]
     },
     "execution_count": 47,
     "metadata": {},
     "output_type": "execute_result"
    }
   ],
   "source": [
    "pd.DataFrame.from_dict(P_PIR_gene_classification,orient='index')"
   ]
  },
  {
   "cell_type": "code",
   "execution_count": 48,
   "metadata": {},
   "outputs": [],
   "source": [
    "P_PIR_gene_classification_df = pd.DataFrame.from_dict(P_PIR_gene_classification,orient='index')\n",
    "P_PIR_gene_classification_df.to_csv(os.path.join(save_dir, 'P_PIR_gene_classification_df.csv'))\n",
    "P_PIR_gene_classification_normal_df = P_PIR_gene_classification_df[P_PIR_gene_classification_df.index.isin(normal_tissues)]\n",
    "P_PIR_gene_classification_normal_df.to_csv(os.path.join(save_dir, 'P_PIR_gene_classification_normal_df.csv'))\n"
   ]
  },
  {
   "cell_type": "markdown",
   "metadata": {},
   "source": [
    "# 4. get snp - egene \n",
    "\n",
    "# 4A. create snp-egene table\n",
    "\n",
    "for each snp `name`=`rsid`_`disease_name` \n",
    "1. annotate to anchor regions with snp data\n",
    "2. annotate anchor regions with TSS data (already done just read in)\n",
    "3. merge with loops\n",
    "4. a SNP-egene pair where a SNP and egene are found on the same loop (regardless if found on same anchor point or different one)\n",
    "5. (NOT DONE BECAUSE 1615 combination of diseases, ###TODO make better tissue disease matcher ) add a potential tissue match\n",
    "\n"
   ]
  },
  {
   "cell_type": "code",
   "execution_count": 49,
   "metadata": {},
   "outputs": [
    {
     "name": "stdout",
     "output_type": "stream",
     "text": [
      "(65019, 4)\n",
      "1575\n"
     ]
    },
    {
     "data": {
      "text/html": [
       "<div>\n",
       "<style scoped>\n",
       "    .dataframe tbody tr th:only-of-type {\n",
       "        vertical-align: middle;\n",
       "    }\n",
       "\n",
       "    .dataframe tbody tr th {\n",
       "        vertical-align: top;\n",
       "    }\n",
       "\n",
       "    .dataframe thead th {\n",
       "        text-align: right;\n",
       "    }\n",
       "</style>\n",
       "<table border=\"1\" class=\"dataframe\">\n",
       "  <thead>\n",
       "    <tr style=\"text-align: right;\">\n",
       "      <th></th>\n",
       "      <th>chr</th>\n",
       "      <th>start</th>\n",
       "      <th>stop</th>\n",
       "      <th>name</th>\n",
       "    </tr>\n",
       "  </thead>\n",
       "  <tbody>\n",
       "    <tr>\n",
       "      <td>0</td>\n",
       "      <td>chr11</td>\n",
       "      <td>78128047</td>\n",
       "      <td>78128048</td>\n",
       "      <td>rs881361__Alzheimer Dementia</td>\n",
       "    </tr>\n",
       "    <tr>\n",
       "      <td>1</td>\n",
       "      <td>chr5</td>\n",
       "      <td>153652930</td>\n",
       "      <td>153652931</td>\n",
       "      <td>rs73281459__Schizophrenia</td>\n",
       "    </tr>\n",
       "    <tr>\n",
       "      <td>2</td>\n",
       "      <td>chr5</td>\n",
       "      <td>153656738</td>\n",
       "      <td>153656739</td>\n",
       "      <td>rs73279671__Schizophrenia</td>\n",
       "    </tr>\n",
       "    <tr>\n",
       "      <td>3</td>\n",
       "      <td>chr8</td>\n",
       "      <td>109260581</td>\n",
       "      <td>109260582</td>\n",
       "      <td>rs9969614__Dupuytren Disease</td>\n",
       "    </tr>\n",
       "    <tr>\n",
       "      <td>4</td>\n",
       "      <td>chr10</td>\n",
       "      <td>102027407</td>\n",
       "      <td>102027408</td>\n",
       "      <td>rs12784396__Psoriasis</td>\n",
       "    </tr>\n",
       "  </tbody>\n",
       "</table>\n",
       "</div>"
      ],
      "text/plain": [
       "     chr      start       stop                          name\n",
       "0  chr11   78128047   78128048  rs881361__Alzheimer Dementia\n",
       "1   chr5  153652930  153652931     rs73281459__Schizophrenia\n",
       "2   chr5  153656738  153656739     rs73279671__Schizophrenia\n",
       "3   chr8  109260581  109260582  rs9969614__Dupuytren Disease\n",
       "4  chr10  102027407  102027408         rs12784396__Psoriasis"
      ]
     },
     "execution_count": 49,
     "metadata": {},
     "output_type": "execute_result"
    }
   ],
   "source": [
    "snp_file = '../data/external/snp_list_noncancer.csv'\n",
    "snp_orig_df = pd.read_csv(snp_file, index_col=0)\n",
    "snp_orig_df['name'] = snp_orig_df.snp + '__' + snp_orig_df.disease\n",
    "diseases = snp_orig_df.disease.unique()\n",
    "snp_orig_df['stop'] = snp_orig_df['loc']+1\n",
    "snp_df = snp_orig_df[['chr', 'loc', 'stop', 'name']]\n",
    "snp_df.columns = ['chr', 'start', 'stop', 'name']\n",
    "\n",
    "\n",
    "snp_df.to_csv('../data/external/snp_list_combined.bed',sep='\\t',header=None, index=None)\n",
    "snp_bed = pybedtools.BedTool.from_dataframe(snp_df).sort()\n",
    "\n",
    "print(snp_df.shape)\n",
    "print(len(diseases))\n",
    "snp_df[:5]"
   ]
  },
  {
   "cell_type": "code",
   "execution_count": 50,
   "metadata": {},
   "outputs": [],
   "source": [
    "# melanocyte_list = ['Melanocytes','COLO_SCR_DMSO', 'COLO_SCR_PLX', 'COLO_shMITF_DMSO', 'COLO_shMITF_PLX',\n",
    "#                    'WM_SCR_DMSO', 'WM_SCR_PLX', 'WM_shMITF_DMSO', 'WM_shMITF_PLX']\n",
    "# skin_list = ['GDSD0','GDSD3','GDSD6', 'A431-CTRLi', 'A431-p63i','CAL27-CTRLi', 'CAL27-p63i',\n",
    "#              'D0-CTRLi', 'D0-p63i', 'D3-CTRLi', 'D3-p63i', 'D6-CTRLi', 'D6-p63i','SCC13-CTRLi', 'SCC13-p63i']\n",
    "# disease_to_tissue = {\n",
    "#     '':[],\n",
    "#     'paad':['Pancreas'], 'brca,ovca':['HMEC','Ovarian'], 'ovca,paad':['Ovarian','Pancreas'], \n",
    "#     'melanoma':melanocyte_list, \n",
    "#     'colon':['Colon'], \n",
    "#     'kidney,skin':['Renal']+skin_list +melanocyte_list, 'colon,lung':['Colon','Airway'], \n",
    "#     'bladder,lung,skin':['Bladder','Airway']+skin_list +melanocyte_list,\n",
    "#     'colon,endometrial':['Colon','Uterine'], 'brca,lung':['HMEC','Airway'], 'kidney':['Renal'], 'Thyroid':['Thy'], 'thyroid':['Thy'], \n",
    "#     'endometrial,ovca':['Uter','Ova'], 'skin':['GDSD0','GDSD3','GDSD6','MC'], 'brca':['HMEC'], 'esophagus':['Eso'], 'prad':['Pros'], \n",
    "#     'endometrial':['Uter'], 'ovca':['Ova'], 'lung,skin':['Air','GDSD0','GDSD3','GDSD6','MC'], 'lung,ovca':['Air','Ova'], \n",
    "#     'cervical':['Uter'], 'lung':['Air'], 'bladder':['Blad'], 'brca,melanoma':['HMEC','MC'], 'lymphoma':['GM12878'], \n",
    "#     'colon,melanoma':['Colon','MC'], 'brain':['Astro'], 'melanoma,skin':['GDSD0','GDSD3','GDSD6','MC']\n",
    "    \n",
    "# }"
   ]
  },
  {
   "cell_type": "code",
   "execution_count": 51,
   "metadata": {},
   "outputs": [
    {
     "name": "stderr",
     "output_type": "stream",
     "text": [
      "/Users/mguo123/opt/anaconda3/lib/python3.7/site-packages/numpy/lib/arraysetops.py:568: FutureWarning: elementwise comparison failed; returning scalar instead, but in the future will perform elementwise comparison\n",
      "  mask |= (ar1 == a)\n"
     ]
    },
    {
     "name": "stdout",
     "output_type": "stream",
     "text": [
      "Astrocytes (3525290, 4)\n"
     ]
    },
    {
     "name": "stderr",
     "output_type": "stream",
     "text": [
      "/Users/mguo123/opt/anaconda3/lib/python3.7/site-packages/numpy/lib/arraysetops.py:568: FutureWarning: elementwise comparison failed; returning scalar instead, but in the future will perform elementwise comparison\n",
      "  mask |= (ar1 == a)\n"
     ]
    },
    {
     "name": "stdout",
     "output_type": "stream",
     "text": [
      "H9_D0 (5982989, 4)\n",
      "H9_D10 (7871677, 4)\n"
     ]
    },
    {
     "name": "stderr",
     "output_type": "stream",
     "text": [
      "/Users/mguo123/opt/anaconda3/lib/python3.7/site-packages/numpy/lib/arraysetops.py:568: FutureWarning: elementwise comparison failed; returning scalar instead, but in the future will perform elementwise comparison\n",
      "  mask |= (ar1 == a)\n"
     ]
    },
    {
     "name": "stdout",
     "output_type": "stream",
     "text": [
      "H9_D2 (15469189, 4)\n"
     ]
    },
    {
     "name": "stderr",
     "output_type": "stream",
     "text": [
      "/Users/mguo123/opt/anaconda3/lib/python3.7/site-packages/numpy/lib/arraysetops.py:568: FutureWarning: elementwise comparison failed; returning scalar instead, but in the future will perform elementwise comparison\n",
      "  mask |= (ar1 == a)\n"
     ]
    },
    {
     "name": "stdout",
     "output_type": "stream",
     "text": [
      "H9_D28 (17519804, 4)\n"
     ]
    },
    {
     "name": "stderr",
     "output_type": "stream",
     "text": [
      "/Users/mguo123/opt/anaconda3/lib/python3.7/site-packages/numpy/lib/arraysetops.py:568: FutureWarning: elementwise comparison failed; returning scalar instead, but in the future will perform elementwise comparison\n",
      "  mask |= (ar1 == a)\n"
     ]
    },
    {
     "name": "stdout",
     "output_type": "stream",
     "text": [
      "SLC_D0 (22092600, 4)\n"
     ]
    },
    {
     "name": "stderr",
     "output_type": "stream",
     "text": [
      "/Users/mguo123/opt/anaconda3/lib/python3.7/site-packages/numpy/lib/arraysetops.py:568: FutureWarning: elementwise comparison failed; returning scalar instead, but in the future will perform elementwise comparison\n",
      "  mask |= (ar1 == a)\n"
     ]
    },
    {
     "name": "stdout",
     "output_type": "stream",
     "text": [
      "SLC_D2 (27570105, 4)\n"
     ]
    },
    {
     "name": "stderr",
     "output_type": "stream",
     "text": [
      "/Users/mguo123/opt/anaconda3/lib/python3.7/site-packages/numpy/lib/arraysetops.py:568: FutureWarning: elementwise comparison failed; returning scalar instead, but in the future will perform elementwise comparison\n",
      "  mask |= (ar1 == a)\n"
     ]
    },
    {
     "name": "stdout",
     "output_type": "stream",
     "text": [
      "SL_D0 (30047693, 4)\n"
     ]
    },
    {
     "name": "stderr",
     "output_type": "stream",
     "text": [
      "/Users/mguo123/opt/anaconda3/lib/python3.7/site-packages/numpy/lib/arraysetops.py:568: FutureWarning: elementwise comparison failed; returning scalar instead, but in the future will perform elementwise comparison\n",
      "  mask |= (ar1 == a)\n"
     ]
    },
    {
     "name": "stdout",
     "output_type": "stream",
     "text": [
      "SL_D2 (35676018, 4)\n",
      "CPU times: user 8min 54s, sys: 21.7 s, total: 9min 16s\n",
      "Wall time: 6min 6s\n"
     ]
    }
   ],
   "source": [
    "%%time\n",
    "snp_egene_df = pd.DataFrame(columns=['TSS',\t'snp_id',\t'disease',\t'tissue'])\n",
    "for tissue in tissues:\n",
    "    # 1. annotate anchors with snp info \n",
    "    anchor = pybedtools.BedTool('../data/interim/merged/anchors_bed_sort/'+tissue+'_sort.bed')\n",
    "    anchor_snp_annon_df = anchor.intersect(snp_bed, wa=True, wb=True, sorted=True, names='anchor').to_dataframe()\n",
    "    anchor_snp_annon_df.columns = ['chr', 'start', 'stop', 'anchor', 'chr_snp','start_snp', 'stop_snp', 'snp_name']\n",
    "    anchor_snp_annon_df_filt = anchor_snp_annon_df[['anchor', 'snp_name']]\n",
    "\n",
    "    # 2. read in tss annotation of anchors\n",
    "    promoter_file = '../data/interim/annon/promoter_anchors/promoter_'+tissue+'_annon.bed'\n",
    "    if not os.path.exists(promoter_file):\n",
    "        print(promoter_file,'does not exist .. skipping')\n",
    "        continue\n",
    "    anchor_tss_annon_df = pd.read_csv(promoter_file,sep='\\t', header=None)\n",
    "    anchor_tss_annon_df.columns = ['chr_p','start_p','stop_p','TSS','chr_f','start_f','stop_f','anchor','overlap']\n",
    "    anchor_tss_annon_df_filt = anchor_tss_annon_df.sort_values('overlap', ascending=False).drop_duplicates(['TSS']).sort_index()\n",
    "    anchor_tss_annon_df_filt = anchor_tss_annon_df_filt[['anchor','TSS']]\n",
    "\n",
    "    # 3. merge with loops: read in loop information and annotate loops with snp and tss anchor\n",
    "    loop_file = '../data/interim/merged/loops/'+tissue+'.loops.csv'\n",
    "    loop_df = pd.read_csv(loop_file,index_col=0)\n",
    "    loop_df_rev = loop_df.copy()\n",
    "    loop_df_rev.columns = ['target','source','count']\n",
    "    loop_df_bi = pd.concat([loop_df, loop_df_rev],sort=False)\n",
    "    loop_df_bi = loop_df_bi.merge(anchor_snp_annon_df_filt,how='left',left_on='source',right_on='anchor' )\n",
    "    loop_df_bi.drop('anchor',axis=1,inplace=True)\n",
    "    loop_df_bi = loop_df_bi.merge(anchor_snp_annon_df_filt,how='inner',left_on='target',right_on='anchor', suffixes=['_s','_t'] )\n",
    "    loop_df_bi.drop('anchor',axis=1,inplace=True)\n",
    "    loop_df_bi = loop_df_bi.merge(anchor_tss_annon_df_filt,how='left',left_on='source',right_on='anchor' )\n",
    "    loop_df_bi.drop('anchor',axis=1,inplace=True)\n",
    "    loop_df_bi = loop_df_bi.merge(anchor_tss_annon_df_filt,how='inner',left_on='target',right_on='anchor', suffixes=['_s','_t'] )\n",
    "    loop_df_bi.drop('anchor',axis=1,inplace=True)\n",
    "\n",
    "    # 4. a SNP-egene pair where a SNP and egene are found on the same loop (regardless if found on same anchor point or different one)\n",
    "    tissue_snp_df = loop_df_bi[['snp_name_s',\t'snp_name_t',\t'TSS_s',\t'TSS_t']].fillna('')\n",
    "    tissue_snp_df['snp_name'] = tissue_snp_df.snp_name_s + '::' + tissue_snp_df.snp_name_t\n",
    "    tissue_snp_df['TSS'] = tissue_snp_df.TSS_s + '::' + tissue_snp_df.TSS_t\n",
    "    tissue_snp_df['TSS'] = tissue_snp_df.TSS.str.strip('::')\n",
    "    tissue_snp_df['snp_name'] = tissue_snp_df.snp_name.str.strip('::')\n",
    "    tissue_snp_df = tissue_snp_df[['snp_name','TSS']]\n",
    "    tissue_snp_df = pd.DataFrame(tissue_snp_df.snp_name.str.split('::').to_list(), index=tissue_snp_df.TSS).stack().reset_index('TSS')\n",
    "    tissue_snp_df.columns = ['TSS', 'snp_name']\n",
    "    tissue_snp_df = pd.DataFrame(tissue_snp_df.TSS.str.split('::').to_list(), index=tissue_snp_df.snp_name).stack().reset_index([0,'snp_name'])\n",
    "    tissue_snp_df.columns = ['snp_name', 'TSS']\n",
    "    tissue_snp_df[['snp_id','disease']]=tissue_snp_df.snp_name.str.split('__',expand=True)\n",
    "    tissue_snp_df['tissue'] = tissue\n",
    "    tissue_snp_df.drop('snp_name',axis=1,inplace=True)\n",
    "    \n",
    "    # 5. add to overall dataframe\n",
    "    snp_egene_df = pd.concat([snp_egene_df, tissue_snp_df])\n",
    "    print(tissue, snp_egene_df.shape)\n",
    "    "
   ]
  },
  {
   "cell_type": "code",
   "execution_count": 52,
   "metadata": {},
   "outputs": [],
   "source": [
    "snp_egene_df.dropna(inplace=True)\n",
    "snp_egene_df.to_csv(os.path.join(save_dir,'snp_egene_df.csv'))"
   ]
  },
  {
   "cell_type": "code",
   "execution_count": 53,
   "metadata": {},
   "outputs": [],
   "source": [
    "snp_egene_normal_df = snp_egene_df[snp_egene_df.tissue.isin(normal_tissues)]\n",
    "snp_egene_normal_df.to_csv(os.path.join(save_dir, 'snp_egene_normal_df.csv'))"
   ]
  },
  {
   "cell_type": "code",
   "execution_count": 54,
   "metadata": {},
   "outputs": [
    {
     "data": {
      "text/plain": [
       "((33510778, 4), (33510778, 4))"
      ]
     },
     "execution_count": 54,
     "metadata": {},
     "output_type": "execute_result"
    }
   ],
   "source": [
    "snp_egene_df.shape, snp_egene_normal_df.shape"
   ]
  },
  {
   "cell_type": "markdown",
   "metadata": {},
   "source": [
    "# 5. get snp egene distance"
   ]
  },
  {
   "cell_type": "code",
   "execution_count": 55,
   "metadata": {},
   "outputs": [],
   "source": [
    "TSS_df = pd.read_csv('../data/external/TSS_annon_hg19.csv',index_col=0)\n"
   ]
  },
  {
   "cell_type": "code",
   "execution_count": 56,
   "metadata": {},
   "outputs": [],
   "source": [
    "snp_egene_df_wdist = snp_egene_df.merge(TSS_df[['chr','loc','TSS']], how='left', on='TSS')"
   ]
  },
  {
   "cell_type": "code",
   "execution_count": 57,
   "metadata": {},
   "outputs": [
    {
     "name": "stdout",
     "output_type": "stream",
     "text": [
      "CPU times: user 5min 35s, sys: 3min 3s, total: 8min 38s\n",
      "Wall time: 9min 10s\n"
     ]
    }
   ],
   "source": [
    "%%time\n",
    "# takes awhile (~1-2 min)\n",
    "snp_egene_df_wdist['name'] = snp_egene_df_wdist.snp_id + '__' + snp_egene_df_wdist.disease\n",
    "snp_egene_df_wdist = snp_egene_df_wdist.merge(snp_df[['chr','start','name']], how='left', on='name')\n",
    "snp_egene_df_wdist.dropna(inplace=True)"
   ]
  },
  {
   "cell_type": "code",
   "execution_count": 58,
   "metadata": {},
   "outputs": [
    {
     "data": {
      "text/plain": [
       "(355476582, 9)"
      ]
     },
     "execution_count": 58,
     "metadata": {},
     "output_type": "execute_result"
    }
   ],
   "source": [
    "snp_egene_df_wdist.shape"
   ]
  },
  {
   "cell_type": "code",
   "execution_count": 59,
   "metadata": {},
   "outputs": [
    {
     "data": {
      "text/plain": [
       "(355474873, 9)"
      ]
     },
     "execution_count": 59,
     "metadata": {},
     "output_type": "execute_result"
    }
   ],
   "source": [
    "snp_egene_df_wdist = snp_egene_df_wdist[snp_egene_df_wdist.chr_x==snp_egene_df_wdist.chr_y]\n",
    "snp_egene_df_wdist.shape"
   ]
  },
  {
   "cell_type": "code",
   "execution_count": 60,
   "metadata": {},
   "outputs": [],
   "source": [
    "snp_egene_df_wdist['distance'] = abs(snp_egene_df_wdist['loc'] - snp_egene_df_wdist['start'])\n",
    "snp_egene_df_wdist = snp_egene_df_wdist[['TSS',\t'snp_id',\t'disease',\t'tissue', 'distance']]"
   ]
  },
  {
   "cell_type": "code",
   "execution_count": 61,
   "metadata": {},
   "outputs": [
    {
     "data": {
      "text/plain": [
       "count    3.554749e+08\n",
       "mean     1.446384e+05\n",
       "std      3.312608e+05\n",
       "min      1.000000e+00\n",
       "25%      9.490000e+03\n",
       "50%      1.202700e+04\n",
       "75%      7.590800e+04\n",
       "max      2.024192e+06\n",
       "Name: distance, dtype: float64"
      ]
     },
     "execution_count": 61,
     "metadata": {},
     "output_type": "execute_result"
    }
   ],
   "source": [
    "snp_egene_df_wdist.distance.describe()"
   ]
  },
  {
   "cell_type": "code",
   "execution_count": 62,
   "metadata": {},
   "outputs": [
    {
     "data": {
      "text/plain": [
       "<matplotlib.axes._subplots.AxesSubplot at 0x7fc87572d0d0>"
      ]
     },
     "execution_count": 62,
     "metadata": {},
     "output_type": "execute_result"
    },
    {
     "data": {
      "image/png": "[encoded data removed]",
      "text/plain": [
       "<Figure size 432x288 with 1 Axes>"
      ]
     },
     "metadata": {
      "needs_background": "light"
     },
     "output_type": "display_data"
    }
   ],
   "source": [
    "sns.distplot(snp_egene_df_wdist.distance)"
   ]
  },
  {
   "cell_type": "code",
   "execution_count": 63,
   "metadata": {},
   "outputs": [],
   "source": [
    "snp_egene_df_wdist.to_csv(os.path.join(save_dir,'snp_egene_df_wdist.csv'))\n",
    "snp_egene_normal_df_wdist = snp_egene_df_wdist[snp_egene_df_wdist.tissue.isin(normal_tissues)]\n",
    "snp_egene_normal_df_wdist.to_csv(os.path.join(save_dir, 'snp_egene_normal_df_wdist.csv'))"
   ]
  },
  {
   "cell_type": "code",
   "execution_count": null,
   "metadata": {},
   "outputs": [],
   "source": []
  },
  {
   "cell_type": "code",
   "execution_count": null,
   "metadata": {},
   "outputs": [],
   "source": []
  }
 ],
 "metadata": {
  "kernelspec": {
   "display_name": "Python 3",
   "language": "python",
   "name": "python3"
  },
  "language_info": {
   "codemirror_mode": {
    "name": "ipython",
    "version": 3
   },
   "file_extension": ".py",
   "mimetype": "text/x-python",
   "name": "python",
   "nbconvert_exporter": "python",
   "pygments_lexer": "ipython3",
   "version": "3.7.4"
  }
 },
 "nbformat": 4,
 "nbformat_minor": 4
}
