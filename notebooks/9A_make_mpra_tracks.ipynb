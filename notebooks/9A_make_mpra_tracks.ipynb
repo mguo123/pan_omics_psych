{
 "cells": [
  {
   "cell_type": "markdown",
   "metadata": {},
   "source": [
    "# 9A_make_mpra_tracks\n",
    "\n",
    "copy of 8B_make_rna_tracks\n",
    "\n",
    "2/16/2021\n",
    "\n",
    "how to make rna tracks : will be displaying TPM values on exons in hg19\n",
    "\n",
    "Option 1: Wiggle (not done b/c wiggle not easy to process)\n",
    "1. make wiggle file (https://genome.ucsc.edu/goldenPath/help/wiggle.html)\n",
    "2. convert wig to BigWig (https://genome.ucsc.edu/goldenpath/help/bigWig.html)\n",
    "\n",
    "Option 2: Bedgraph\n",
    "1. make bedgraph (https://genome.ucsc.edu/goldenpath/help/bedgraph.html)\n",
    "2. convert bedgraph to BigWig (https://genome.ucsc.edu/goldenpath/help/bigWig.html)\n",
    "    To create a bigWig track from a bedGraph file, follow these steps:\n",
    "\n",
    "1. Create a bedGraph format file following the directions here. When converting a bedGraph file to a bigWig file, you are limited to one track of data in your input file; therefore, you must create a separate bedGraph file for each data track.\n",
    "2. Remove any existing track or browser lines from your bedGraph file so that it contains only data.\n",
    "3. Download the bedGraphToBigWig program from the binary utilities directory.\n",
    "4. Use the fetchChromSizes script from the same directory to create the chrom.sizes file for the UCSC database with which you are working (e.g., hg19). If the assembly genNom is hosted by UCSC, chrom.sizes can be a URL like http://hgdownload.soe.ucsc.edu/goldenPath/genNom/bigZips/genNom.chrom.sizes\n",
    "5. Use the bedGraphToBigWig utility to create a bigWig file from your bedGraph file:\n",
    "    `bedGraphToBigWig in.bedGraph chrom.sizes myBigWig.bw`\n",
    "(Note that the bedGraphToBigWig program DOES NOT accept gzipped bedGraph input files.)\n",
    "6. Move the newly created bigWig file (myBigWig.bw) to a web-accessible http, https, or ftp location.\n",
    "7. Paste the URL into the custom track entry form or construct a custom track using a single track line.\n",
    "8. Paste the custom track line into the text box on the custom track management page.\n",
    "\n"
   ]
  },
  {
   "cell_type": "code",
   "execution_count": 14,
   "metadata": {},
   "outputs": [],
   "source": [
    "import pandas as pd\n",
    "import os, glob, re\n",
    "import subprocess\n",
    "import pybedtools\n",
    "import numpy as np"
   ]
  },
  {
   "cell_type": "markdown",
   "metadata": {},
   "source": [
    "# 0. get files\n",
    "- exon file\n",
    "- rna seq tpm matrix file\n",
    "- chrom size file"
   ]
  },
  {
   "cell_type": "code",
   "execution_count": 21,
   "metadata": {},
   "outputs": [],
   "source": [
    "save_dir = '../data/processed/mpra_bigwigs'\n",
    "if not os.path.exists(save_dir):\n",
    "    os.makedirs(save_dir)\n",
    "if not os.path.exists(os.path.join(save_dir, 'bedgraphs')):\n",
    "    os.makedirs(os.path.join(save_dir, 'bedgraphs'))\n",
    "if not os.path.exists(os.path.join(save_dir, 'bigwigs')):\n",
    "    os.makedirs(os.path.join(save_dir, 'bigwigs'))"
   ]
  },
  {
   "cell_type": "code",
   "execution_count": 2,
   "metadata": {},
   "outputs": [],
   "source": [
    "size_file = '../data/external/chrom_hg19.sizes'\n",
    "exon_bed = '../data/external/gencode.v19.exon.bed'"
   ]
  },
  {
   "cell_type": "code",
   "execution_count": 3,
   "metadata": {},
   "outputs": [
    {
     "data": {
      "text/html": [
       "<div>\n",
       "<style scoped>\n",
       "    .dataframe tbody tr th:only-of-type {\n",
       "        vertical-align: middle;\n",
       "    }\n",
       "\n",
       "    .dataframe tbody tr th {\n",
       "        vertical-align: top;\n",
       "    }\n",
       "\n",
       "    .dataframe thead th {\n",
       "        text-align: right;\n",
       "    }\n",
       "</style>\n",
       "<table border=\"1\" class=\"dataframe\">\n",
       "  <thead>\n",
       "    <tr style=\"text-align: right;\">\n",
       "      <th></th>\n",
       "      <th>chrom</th>\n",
       "      <th>start</th>\n",
       "      <th>end</th>\n",
       "      <th>name</th>\n",
       "    </tr>\n",
       "  </thead>\n",
       "  <tbody>\n",
       "    <tr>\n",
       "      <td>0</td>\n",
       "      <td>chr1</td>\n",
       "      <td>11869</td>\n",
       "      <td>12227</td>\n",
       "      <td>DDX11L1</td>\n",
       "    </tr>\n",
       "    <tr>\n",
       "      <td>1</td>\n",
       "      <td>chr1</td>\n",
       "      <td>12613</td>\n",
       "      <td>12721</td>\n",
       "      <td>DDX11L1</td>\n",
       "    </tr>\n",
       "    <tr>\n",
       "      <td>2</td>\n",
       "      <td>chr1</td>\n",
       "      <td>13221</td>\n",
       "      <td>14409</td>\n",
       "      <td>DDX11L1</td>\n",
       "    </tr>\n",
       "    <tr>\n",
       "      <td>3</td>\n",
       "      <td>chr1</td>\n",
       "      <td>11872</td>\n",
       "      <td>12227</td>\n",
       "      <td>DDX11L1</td>\n",
       "    </tr>\n",
       "    <tr>\n",
       "      <td>4</td>\n",
       "      <td>chr1</td>\n",
       "      <td>12613</td>\n",
       "      <td>12721</td>\n",
       "      <td>DDX11L1</td>\n",
       "    </tr>\n",
       "  </tbody>\n",
       "</table>\n",
       "</div>"
      ],
      "text/plain": [
       "  chrom  start    end     name\n",
       "0  chr1  11869  12227  DDX11L1\n",
       "1  chr1  12613  12721  DDX11L1\n",
       "2  chr1  13221  14409  DDX11L1\n",
       "3  chr1  11872  12227  DDX11L1\n",
       "4  chr1  12613  12721  DDX11L1"
      ]
     },
     "execution_count": 3,
     "metadata": {},
     "output_type": "execute_result"
    }
   ],
   "source": [
    "exon_df = pybedtools.BedTool(exon_bed).to_dataframe()\n",
    "exon_df[:5]"
   ]
  },
  {
   "cell_type": "code",
   "execution_count": 4,
   "metadata": {},
   "outputs": [],
   "source": [
    "# rna_file = '../data/interim/rna/tissue_tpm_sym.csv'\n",
    "# rna_df = pd.read_csv(rna_file)\n",
    "# print(rna_df.shape)\n",
    "# rna_df[:5]"
   ]
  },
  {
   "cell_type": "code",
   "execution_count": 25,
   "metadata": {},
   "outputs": [
    {
     "name": "stderr",
     "output_type": "stream",
     "text": [
      "/Users/mguo123/opt/anaconda3/lib/python3.7/site-packages/ipykernel_launcher.py:5: SettingWithCopyWarning: \n",
      "A value is trying to be set on a copy of a slice from a DataFrame.\n",
      "Try using .loc[row_indexer,col_indexer] = value instead\n",
      "\n",
      "See the caveats in the documentation: http://pandas.pydata.org/pandas-docs/stable/user_guide/indexing.html#returning-a-view-versus-a-copy\n",
      "  \"\"\"\n",
      "/Users/mguo123/opt/anaconda3/lib/python3.7/site-packages/ipykernel_launcher.py:6: SettingWithCopyWarning: \n",
      "A value is trying to be set on a copy of a slice from a DataFrame.\n",
      "Try using .loc[row_indexer,col_indexer] = value instead\n",
      "\n",
      "See the caveats in the documentation: http://pandas.pydata.org/pandas-docs/stable/user_guide/indexing.html#returning-a-view-versus-a-copy\n",
      "  \n"
     ]
    },
    {
     "data": {
      "text/html": [
       "<div>\n",
       "<style scoped>\n",
       "    .dataframe tbody tr th:only-of-type {\n",
       "        vertical-align: middle;\n",
       "    }\n",
       "\n",
       "    .dataframe tbody tr th {\n",
       "        vertical-align: top;\n",
       "    }\n",
       "\n",
       "    .dataframe thead th {\n",
       "        text-align: right;\n",
       "    }\n",
       "</style>\n",
       "<table border=\"1\" class=\"dataframe\">\n",
       "  <thead>\n",
       "    <tr style=\"text-align: right;\">\n",
       "      <th></th>\n",
       "      <th>chr</th>\n",
       "      <th>start</th>\n",
       "      <th>stop</th>\n",
       "      <th>name</th>\n",
       "      <th>mpra_logfc_mean</th>\n",
       "      <th>mpra_tissue</th>\n",
       "      <th>Linked_SNP</th>\n",
       "      <th>diseases</th>\n",
       "    </tr>\n",
       "  </thead>\n",
       "  <tbody>\n",
       "    <tr>\n",
       "      <td>0</td>\n",
       "      <td>chr5</td>\n",
       "      <td>96161942</td>\n",
       "      <td>96161943</td>\n",
       "      <td>2.500462</td>\n",
       "      <td>-0.922195</td>\n",
       "      <td>H9D10|H9D10|SLC|SLC</td>\n",
       "      <td>rs152280</td>\n",
       "      <td>MDD</td>\n",
       "    </tr>\n",
       "    <tr>\n",
       "      <td>1</td>\n",
       "      <td>chr22</td>\n",
       "      <td>42347060</td>\n",
       "      <td>42347061</td>\n",
       "      <td>3.448500</td>\n",
       "      <td>-0.766147</td>\n",
       "      <td>H9D10|H9D10</td>\n",
       "      <td>rs5996094</td>\n",
       "      <td>SCZ</td>\n",
       "    </tr>\n",
       "    <tr>\n",
       "      <td>2</td>\n",
       "      <td>chr7</td>\n",
       "      <td>28799411</td>\n",
       "      <td>28799412</td>\n",
       "      <td>3.678498</td>\n",
       "      <td>-1.074166</td>\n",
       "      <td>H9D0|H9D0|H9D2|H9D2|H9D4|H9D4|HEK293|HEK293|SL...</td>\n",
       "      <td>rs10227088</td>\n",
       "      <td>GAD</td>\n",
       "    </tr>\n",
       "    <tr>\n",
       "      <td>3</td>\n",
       "      <td>chr7</td>\n",
       "      <td>1962163</td>\n",
       "      <td>1962164</td>\n",
       "      <td>2.978666</td>\n",
       "      <td>-1.456217</td>\n",
       "      <td>HEK293|HEK293</td>\n",
       "      <td>rs10268609</td>\n",
       "      <td>BPD</td>\n",
       "    </tr>\n",
       "    <tr>\n",
       "      <td>4</td>\n",
       "      <td>chr7</td>\n",
       "      <td>1915282</td>\n",
       "      <td>1915283</td>\n",
       "      <td>3.434151</td>\n",
       "      <td>-1.292504</td>\n",
       "      <td>H9D0|H9D0|H9D10|H9D10|H9D4|H9D4|HEK293|HEK293|...</td>\n",
       "      <td>rs7788921</td>\n",
       "      <td>BPD</td>\n",
       "    </tr>\n",
       "  </tbody>\n",
       "</table>\n",
       "</div>"
      ],
      "text/plain": [
       "     chr     start      stop      name  mpra_logfc_mean  \\\n",
       "0   chr5  96161942  96161943  2.500462        -0.922195   \n",
       "1  chr22  42347060  42347061  3.448500        -0.766147   \n",
       "2   chr7  28799411  28799412  3.678498        -1.074166   \n",
       "3   chr7   1962163   1962164  2.978666        -1.456217   \n",
       "4   chr7   1915282   1915283  3.434151        -1.292504   \n",
       "\n",
       "                                         mpra_tissue  Linked_SNP diseases  \n",
       "0                                H9D10|H9D10|SLC|SLC    rs152280      MDD  \n",
       "1                                        H9D10|H9D10   rs5996094      SCZ  \n",
       "2  H9D0|H9D0|H9D2|H9D2|H9D4|H9D4|HEK293|HEK293|SL...  rs10227088      GAD  \n",
       "3                                      HEK293|HEK293  rs10268609      BPD  \n",
       "4  H9D0|H9D0|H9D10|H9D10|H9D4|H9D4|HEK293|HEK293|...   rs7788921      BPD  "
      ]
     },
     "execution_count": 25,
     "metadata": {},
     "output_type": "execute_result"
    }
   ],
   "source": [
    "mpra_df = pd.read_excel('/Users/mguo123/Google Drive/1_khavari/noncancer_project/miseq/novogene_071420/figure_tables/lib_df_annon_mprasig_FINAL_v020521.xlsx')\n",
    "mpra_df_sel = mpra_df[['rowname','Chr','Position','Ref/Alt','Linked_SNP','diseases',\n",
    "        'mpra_tissue',\t'mpra_pval_str',\t'mpra_pval_mean',\n",
    "         'mpra_logfc_str',\t'mpra_logfc_mean',\t'bool_mpra_sig']]\n",
    "mpra_df_sel['end'] = mpra_df_sel.Position +1\n",
    "mpra_df_sel['neglog10pval'] = mpra_df_sel.mpra_pval_mean.apply(lambda x:-np.log10(x))\n",
    "mpra_df_sel = mpra_df_sel[['Chr','Position','end','neglog10pval', 'mpra_logfc_mean','mpra_tissue','Linked_SNP','diseases']]\n",
    "mpra_df_sel.columns = ['chr','start','stop','name', 'mpra_logfc_mean','mpra_tissue','Linked_SNP','diseases']\n",
    "mpra_df_sel.to_csv(os.path.join(save_dir, 'mpra_df_sel.csv'))\n",
    "mpra_df_sel[:5]"
   ]
  },
  {
   "cell_type": "code",
   "execution_count": 17,
   "metadata": {},
   "outputs": [],
   "source": [
    "tissues = ['AST', 'SL',  'SLC','H9D0', 'H9D2', 'H9D4','H9D10','HEK293']"
   ]
  },
  {
   "cell_type": "code",
   "execution_count": 41,
   "metadata": {},
   "outputs": [],
   "source": [
    "# # bedgraph defintion lines\n",
    "# definition_str = \"track type=bedGraph name={track_label:s} description=center_label visibility=display_mode color=r,g,b altColor=r,g,b priority=priority autoScale=on|off alwaysZero=on|off gridDefault=on|off maxHeightPixels=max:default:min graphType=bar|points viewLimits=lower:upper yLineMark=real-value yLineOnOff=on|off windowingFunction=maximum|mean|minimum smoothingWindow=off|2-16\"\n",
    "# definition_str.format(track_label='test', )"
   ]
  },
  {
   "cell_type": "code",
   "execution_count": 42,
   "metadata": {},
   "outputs": [],
   "source": [
    "# txt = \"For only {price:.2f} dollars!\"\n",
    "# print(txt.format(price = 49))"
   ]
  },
  {
   "cell_type": "code",
   "execution_count": 18,
   "metadata": {},
   "outputs": [],
   "source": []
  },
  {
   "cell_type": "markdown",
   "metadata": {},
   "source": [
    "# 1A. make bedGraph (no brower or track lines) per tissue\n",
    "\n",
    "space delimited\n",
    "`chrom chromStart chromEnd dataValue`\n",
    "\n",
    "example:\n",
    "\n",
    "```\n",
    "chr19 49302000 49302300 -1.0\n",
    "chr19 49302300 49302600 -0.75\n",
    "```"
   ]
  },
  {
   "cell_type": "code",
   "execution_count": 30,
   "metadata": {},
   "outputs": [
    {
     "name": "stdout",
     "output_type": "stream",
     "text": [
      "***** AST\n",
      "size mpra_df_bed sorted  (66, 4)\n",
      "***** SL\n",
      "size mpra_df_bed sorted  (355, 4)\n",
      "***** SLC\n",
      "size mpra_df_bed sorted  (335, 4)\n",
      "***** H9D0\n",
      "size mpra_df_bed sorted  (105, 4)\n",
      "***** H9D2\n",
      "size mpra_df_bed sorted  (86, 4)\n",
      "***** H9D4\n",
      "size mpra_df_bed sorted  (188, 4)\n",
      "***** H9D10\n",
      "size mpra_df_bed sorted  (153, 4)\n",
      "***** HEK293\n",
      "size mpra_df_bed sorted  (273, 4)\n"
     ]
    }
   ],
   "source": [
    "for tissue in tissues:\n",
    "    print('*****', tissue)\n",
    "    mpra_df_tissue = mpra_df_sel[mpra_df_sel.mpra_tissue.str.contains(tissue)]\n",
    "    \n",
    "    mpra_df_tissue = mpra_df_tissue[['chr','start','stop','name']]\n",
    "    mpra_df_bed = pybedtools.BedTool.from_dataframe(mpra_df_tissue).sort()#.merge(c=4,o='sum')\n",
    "    mpra_df_tissue = mpra_df_bed.to_dataframe()\n",
    "    print('size mpra_df_bed sorted ',mpra_df_tissue.shape)\n",
    "    mpra_df_tissue.to_csv(os.path.join(save_dir,'bedgraphs', tissue+'_unsorted.bedGraph'),index=False, header=False,sep=' ')    \n",
    "    "
   ]
  },
  {
   "cell_type": "code",
   "execution_count": 31,
   "metadata": {},
   "outputs": [
    {
     "data": {
      "text/html": [
       "<div>\n",
       "<style scoped>\n",
       "    .dataframe tbody tr th:only-of-type {\n",
       "        vertical-align: middle;\n",
       "    }\n",
       "\n",
       "    .dataframe tbody tr th {\n",
       "        vertical-align: top;\n",
       "    }\n",
       "\n",
       "    .dataframe thead th {\n",
       "        text-align: right;\n",
       "    }\n",
       "</style>\n",
       "<table border=\"1\" class=\"dataframe\">\n",
       "  <thead>\n",
       "    <tr style=\"text-align: right;\">\n",
       "      <th></th>\n",
       "      <th>chrom</th>\n",
       "      <th>start</th>\n",
       "      <th>end</th>\n",
       "      <th>name</th>\n",
       "    </tr>\n",
       "  </thead>\n",
       "  <tbody>\n",
       "    <tr>\n",
       "      <td>0</td>\n",
       "      <td>chr1</td>\n",
       "      <td>7292700</td>\n",
       "      <td>7292701</td>\n",
       "      <td>3.261096</td>\n",
       "    </tr>\n",
       "    <tr>\n",
       "      <td>1</td>\n",
       "      <td>chr1</td>\n",
       "      <td>8033468</td>\n",
       "      <td>8033469</td>\n",
       "      <td>3.356089</td>\n",
       "    </tr>\n",
       "    <tr>\n",
       "      <td>2</td>\n",
       "      <td>chr1</td>\n",
       "      <td>8123684</td>\n",
       "      <td>8123685</td>\n",
       "      <td>2.787682</td>\n",
       "    </tr>\n",
       "    <tr>\n",
       "      <td>3</td>\n",
       "      <td>chr1</td>\n",
       "      <td>8484529</td>\n",
       "      <td>8484530</td>\n",
       "      <td>2.264198</td>\n",
       "    </tr>\n",
       "    <tr>\n",
       "      <td>4</td>\n",
       "      <td>chr1</td>\n",
       "      <td>8484823</td>\n",
       "      <td>8484824</td>\n",
       "      <td>7.523371</td>\n",
       "    </tr>\n",
       "  </tbody>\n",
       "</table>\n",
       "</div>"
      ],
      "text/plain": [
       "  chrom    start      end      name\n",
       "0  chr1  7292700  7292701  3.261096\n",
       "1  chr1  8033468  8033469  3.356089\n",
       "2  chr1  8123684  8123685  2.787682\n",
       "3  chr1  8484529  8484530  2.264198\n",
       "4  chr1  8484823  8484824  7.523371"
      ]
     },
     "execution_count": 31,
     "metadata": {},
     "output_type": "execute_result"
    }
   ],
   "source": [
    "mpra_df_tissue[:5]"
   ]
  },
  {
   "cell_type": "markdown",
   "metadata": {},
   "source": [
    "# 1B. sort bedGraphs\n",
    "\n",
    "`sort -k1,1 -k2,2n unsorted.bedGraph > sorted.bedGraph`"
   ]
  },
  {
   "cell_type": "code",
   "execution_count": 32,
   "metadata": {},
   "outputs": [
    {
     "name": "stdout",
     "output_type": "stream",
     "text": [
      "sort -k1,1 -k2,2n \"../data/processed/mpra_bigwigs/bedgraphs/AST_unsorted.bedGraph\" > \"../data/processed/mpra_bigwigs/bedgraphs/AST_sorted.bedGraph\"\n",
      "sort -k1,1 -k2,2n \"../data/processed/mpra_bigwigs/bedgraphs/SL_unsorted.bedGraph\" > \"../data/processed/mpra_bigwigs/bedgraphs/SL_sorted.bedGraph\"\n",
      "sort -k1,1 -k2,2n \"../data/processed/mpra_bigwigs/bedgraphs/SLC_unsorted.bedGraph\" > \"../data/processed/mpra_bigwigs/bedgraphs/SLC_sorted.bedGraph\"\n",
      "sort -k1,1 -k2,2n \"../data/processed/mpra_bigwigs/bedgraphs/H9D0_unsorted.bedGraph\" > \"../data/processed/mpra_bigwigs/bedgraphs/H9D0_sorted.bedGraph\"\n",
      "sort -k1,1 -k2,2n \"../data/processed/mpra_bigwigs/bedgraphs/H9D2_unsorted.bedGraph\" > \"../data/processed/mpra_bigwigs/bedgraphs/H9D2_sorted.bedGraph\"\n",
      "sort -k1,1 -k2,2n \"../data/processed/mpra_bigwigs/bedgraphs/H9D4_unsorted.bedGraph\" > \"../data/processed/mpra_bigwigs/bedgraphs/H9D4_sorted.bedGraph\"\n",
      "sort -k1,1 -k2,2n \"../data/processed/mpra_bigwigs/bedgraphs/H9D10_unsorted.bedGraph\" > \"../data/processed/mpra_bigwigs/bedgraphs/H9D10_sorted.bedGraph\"\n",
      "sort -k1,1 -k2,2n \"../data/processed/mpra_bigwigs/bedgraphs/HEK293_unsorted.bedGraph\" > \"../data/processed/mpra_bigwigs/bedgraphs/HEK293_sorted.bedGraph\"\n"
     ]
    }
   ],
   "source": [
    "for tissue in tissues:\n",
    "    unsort_file = os.path.join(save_dir, 'bedgraphs',tissue+'_unsorted.bedGraph')\n",
    "    sort_file = os.path.join(save_dir,'bedgraphs', tissue+'_sorted.bedGraph')\n",
    "    sort_cmd = 'sort -k1,1 -k2,2n \"{}\" > \"{}\"'.format(unsort_file,sort_file)\n",
    "    print(sort_cmd)\n",
    "    subprocess.call(sort_cmd,shell=True)"
   ]
  },
  {
   "cell_type": "markdown",
   "metadata": {},
   "source": [
    "# 2. run `bedGraphToBigWig`\n",
    "cmd: `bedGraphToBigWig in.bedGraph chrom.sizes myBigWig.bw`"
   ]
  },
  {
   "cell_type": "code",
   "execution_count": 33,
   "metadata": {},
   "outputs": [],
   "source": [
    "bedGraphToBigWig_cmd = '/Users/mguo123/Documents/genome_browser_tools/bedGraphToBigWig'\n"
   ]
  },
  {
   "cell_type": "code",
   "execution_count": 34,
   "metadata": {},
   "outputs": [
    {
     "name": "stdout",
     "output_type": "stream",
     "text": [
      "/Users/mguo123/Documents/genome_browser_tools/bedGraphToBigWig ../data/processed/mpra_bigwigs/bedgraphs/AST_sorted.bedGraph ../data/external/chrom_hg19.sizes ../data/processed/mpra_bigwigs/bigwigs/AST.bw\n",
      "/Users/mguo123/Documents/genome_browser_tools/bedGraphToBigWig ../data/processed/mpra_bigwigs/bedgraphs/SL_sorted.bedGraph ../data/external/chrom_hg19.sizes ../data/processed/mpra_bigwigs/bigwigs/SL.bw\n",
      "/Users/mguo123/Documents/genome_browser_tools/bedGraphToBigWig ../data/processed/mpra_bigwigs/bedgraphs/SLC_sorted.bedGraph ../data/external/chrom_hg19.sizes ../data/processed/mpra_bigwigs/bigwigs/SLC.bw\n",
      "/Users/mguo123/Documents/genome_browser_tools/bedGraphToBigWig ../data/processed/mpra_bigwigs/bedgraphs/H9D0_sorted.bedGraph ../data/external/chrom_hg19.sizes ../data/processed/mpra_bigwigs/bigwigs/H9D0.bw\n",
      "/Users/mguo123/Documents/genome_browser_tools/bedGraphToBigWig ../data/processed/mpra_bigwigs/bedgraphs/H9D2_sorted.bedGraph ../data/external/chrom_hg19.sizes ../data/processed/mpra_bigwigs/bigwigs/H9D2.bw\n",
      "/Users/mguo123/Documents/genome_browser_tools/bedGraphToBigWig ../data/processed/mpra_bigwigs/bedgraphs/H9D4_sorted.bedGraph ../data/external/chrom_hg19.sizes ../data/processed/mpra_bigwigs/bigwigs/H9D4.bw\n",
      "/Users/mguo123/Documents/genome_browser_tools/bedGraphToBigWig ../data/processed/mpra_bigwigs/bedgraphs/H9D10_sorted.bedGraph ../data/external/chrom_hg19.sizes ../data/processed/mpra_bigwigs/bigwigs/H9D10.bw\n",
      "/Users/mguo123/Documents/genome_browser_tools/bedGraphToBigWig ../data/processed/mpra_bigwigs/bedgraphs/HEK293_sorted.bedGraph ../data/external/chrom_hg19.sizes ../data/processed/mpra_bigwigs/bigwigs/HEK293.bw\n"
     ]
    }
   ],
   "source": [
    "for tissue in tissues:\n",
    "    bedgraph_file = os.path.join(save_dir,'bedgraphs', tissue+'_sorted.bedGraph')\n",
    "    bigwig_file = os.path.join(save_dir,'bigwigs', tissue+'.bw')\n",
    "    cmd = '{} {} {} {}'.format(bedGraphToBigWig_cmd,bedgraph_file, size_file,bigwig_file )\n",
    "    print(cmd)\n",
    "    subprocess.call(cmd,shell=True)"
   ]
  },
  {
   "cell_type": "markdown",
   "metadata": {},
   "source": [
    "# 3. make hub.config.json\n",
    "\n",
    "manually made\n",
    "\n",
    "final folder for upload: `/Users/mguo123/Documents/pan_omics_psych/data/processed/mpra_bigwigs/bigwigs`"
   ]
  },
  {
   "cell_type": "markdown",
   "metadata": {},
   "source": [
    "# 4. checking\n"
   ]
  },
  {
   "cell_type": "code",
   "execution_count": null,
   "metadata": {},
   "outputs": [],
   "source": []
  }
 ],
 "metadata": {
  "kernelspec": {
   "display_name": "Python 3",
   "language": "python",
   "name": "python3"
  },
  "language_info": {
   "codemirror_mode": {
    "name": "ipython",
    "version": 3
   },
   "file_extension": ".py",
   "mimetype": "text/x-python",
   "name": "python",
   "nbconvert_exporter": "python",
   "pygments_lexer": "ipython3",
   "version": "3.7.4"
  }
 },
 "nbformat": 4,
 "nbformat_minor": 4
}
