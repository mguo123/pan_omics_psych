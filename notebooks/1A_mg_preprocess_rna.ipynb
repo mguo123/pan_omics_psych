{
 "cells": [
  {
   "cell_type": "markdown",
   "metadata": {},
   "source": [
    "preprocess rna\n",
    "\n",
    "06/02/2020\n",
    "\n",
    "save to `../data/interim/rna/\n",
    "\n",
    "- `sample_tpm_sym.csv`\n",
    "- `tissue_tpm_sym.csv`"
   ]
  },
  {
   "cell_type": "code",
   "execution_count": 1,
   "metadata": {},
   "outputs": [],
   "source": [
    "import pandas as pd\n",
    "import os,glob"
   ]
  },
  {
   "cell_type": "code",
   "execution_count": 2,
   "metadata": {},
   "outputs": [],
   "source": [
    "save_dir = '../data/interim/rna/'\n",
    "if not os.path.exists(save_dir):\n",
    "    os.makedirs(save_dir)"
   ]
  },
  {
   "cell_type": "code",
   "execution_count": 41,
   "metadata": {},
   "outputs": [],
   "source": [
    "tissue = ['Astrocytes','SL_D0','SL_D2', 'SLC_D0','SLC_D2','H9_D0', 'H9_D2', 'H9_D10', 'H9_D28']"
   ]
  },
  {
   "cell_type": "code",
   "execution_count": 2,
   "metadata": {},
   "outputs": [],
   "source": [
    "rna_df = pd.read_excel('../data/raw/rna/H9SLSLC_0d_2d_28d_TPM.xlsx')\n",
    "rna_d10 = pd.read_excel('../data/raw/rna/h9 d10 TPM.xlsx')\n",
    "astro1_df = pd.read_csv('../data/raw/rna/epithelial_tpm_sym.csv',index_col=0)[['Astrocytes-B1','Astrocytes-B2']]"
   ]
  },
  {
   "cell_type": "code",
   "execution_count": 25,
   "metadata": {},
   "outputs": [],
   "source": [
    "rna_d10_sel = rna_d10[['gene_id','TPM']]\n",
    "rna_d10_sel.columns = ['gene_id', 'H9_D10']"
   ]
  },
  {
   "cell_type": "code",
   "execution_count": 33,
   "metadata": {},
   "outputs": [],
   "source": [
    "rna_df_merged = rna_df.merge(rna_d10_sel, how='left',on='gene_id').merge(astro1_df,how='left',left_on='gene_id',right_index=True).fillna(0)\n",
    "rna_df_merged.set_index('gene_id',inplace=True)"
   ]
  },
  {
   "cell_type": "code",
   "execution_count": 35,
   "metadata": {},
   "outputs": [],
   "source": [
    "rna_df_merged.to_csv(os.path.join(save_dir,'sample_tpm_sym.csv'))"
   ]
  },
  {
   "cell_type": "code",
   "execution_count": 37,
   "metadata": {},
   "outputs": [
    {
     "data": {
      "text/plain": [
       "Index(['H9_1', 'H9_2', 'SL6d_1', 'SL6d_2', 'SL6d_3', 'SLC6d_1', 'SLC6d_2',\n",
       "       'SLC6d_3', 'H9_Ngn2_2d_1', 'H9_Ngn2_2d_2', 'H9_Ngn2_2d_3',\n",
       "       'SL_Ngn2_2d_1', 'SL_Ngn2_2d_2', 'SL_Ngn2_2d_3', 'SLC_Ngn2_2d_1',\n",
       "       'SLC_Ngn2_2d_2', 'SLC_Ngn2_2d_3', 'H9_28d_BGI_1', 'H9_28d_BGI_2',\n",
       "       'SL_Ctrl_28d_1', 'SL_Ctrl_28d_2', 'SL_Ctrl_28d_3', 'SLC_Ctrl_28d_1',\n",
       "       'SLC_Ctrl_28d_2', 'SLC_Ctrl_28d_3', 'H9_D10', 'Astrocytes-B1',\n",
       "       'Astrocytes-B2'],\n",
       "      dtype='object')"
      ]
     },
     "execution_count": 37,
     "metadata": {},
     "output_type": "execute_result"
    }
   ],
   "source": [
    "rna_df_merged.columns"
   ]
  },
  {
   "cell_type": "code",
   "execution_count": 42,
   "metadata": {},
   "outputs": [],
   "source": [
    "rna_df_merged_tissue = rna_df_merged.copy()\n",
    "rna_df_merged_tissue['Astrocytes'] = rna_df_merged_tissue[['Astrocytes-B1','Astrocytes-B2']].mean(axis=1)\n",
    "rna_df_merged_tissue['SL_D0'] = rna_df_merged_tissue[['SL6d_1', 'SL6d_2', 'SL6d_3']].mean(axis=1)\n",
    "rna_df_merged_tissue['SL_D2'] = rna_df_merged_tissue[['SL_Ngn2_2d_1', 'SL_Ngn2_2d_2', 'SL_Ngn2_2d_3']].mean(axis=1)\n",
    "rna_df_merged_tissue['SLC_D0'] = rna_df_merged_tissue[['SLC6d_1', 'SLC6d_2','SLC6d_3']].mean(axis=1)\n",
    "rna_df_merged_tissue['SLC_D2'] = rna_df_merged_tissue[['SLC_Ngn2_2d_1', 'SLC_Ngn2_2d_2', 'SLC_Ngn2_2d_3']].mean(axis=1)\n",
    "rna_df_merged_tissue['H9_D0'] = rna_df_merged_tissue[['H9_1', 'H9_2']].mean(axis=1)\n",
    "rna_df_merged_tissue['H9_D2'] = rna_df_merged_tissue[['H9_Ngn2_2d_1', 'H9_Ngn2_2d_2', 'H9_Ngn2_2d_3']].mean(axis=1)\n",
    "rna_df_merged_tissue['H9_D10'] = rna_df_merged_tissue[['H9_D10']].mean(axis=1)\n",
    "rna_df_merged_tissue['H9_D28'] = rna_df_merged_tissue[['H9_28d_BGI_1', 'H9_28d_BGI_2']].mean(axis=1)\n",
    "rna_df_merged_tissue = rna_df_merged_tissue[tissue]"
   ]
  },
  {
   "cell_type": "code",
   "execution_count": 44,
   "metadata": {},
   "outputs": [],
   "source": [
    "rna_df_merged_tissue.to_csv(os.path.join(save_dir, 'tissue_tpm_sym.csv'))"
   ]
  },
  {
   "cell_type": "code",
   "execution_count": 10,
   "metadata": {},
   "outputs": [
    {
     "data": {
      "text/plain": [
       "Astrocytes     8.225149\n",
       "SL_D0         10.000004\n",
       "SL_D2          9.999998\n",
       "SLC_D0         9.999997\n",
       "SLC_D2         9.999997\n",
       "H9_D0         10.000004\n",
       "H9_D2         10.000001\n",
       "H9_D10         9.972914\n",
       "H9_D28         9.973506\n",
       "dtype: float64"
      ]
     },
     "execution_count": 10,
     "metadata": {},
     "output_type": "execute_result"
    }
   ],
   "source": [
    "rna_df_merged_tissue = pd.read_csv(os.path.join(save_dir, 'tissue_tpm_sym.csv'),index_col=0)\n",
    "rna_df_merged_tissue.sum(axis=0)/100000"
   ]
  },
  {
   "cell_type": "code",
   "execution_count": null,
   "metadata": {},
   "outputs": [],
   "source": []
  }
 ],
 "metadata": {
  "kernelspec": {
   "display_name": "Python 3",
   "language": "python",
   "name": "python3"
  },
  "language_info": {
   "codemirror_mode": {
    "name": "ipython",
    "version": 3
   },
   "file_extension": ".py",
   "mimetype": "text/x-python",
   "name": "python",
   "nbconvert_exporter": "python",
   "pygments_lexer": "ipython3",
   "version": "3.7.4"
  }
 },
 "nbformat": 4,
 "nbformat_minor": 4
}
